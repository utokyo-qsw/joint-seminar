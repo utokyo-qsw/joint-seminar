{
 "cells": [
  {
   "cell_type": "markdown",
   "id": "ad2d0adc",
   "metadata": {},
   "source": [
    "# Steane符号と論理ビット操作"
   ]
  },
  {
   "cell_type": "markdown",
   "id": "3d8de66f",
   "metadata": {},
   "source": [
    "このノートブックでは、Shorの符号ではなく、Steaneの符号を用いた誤り訂正符号の実装を行う。\n",
    "\n",
    "Steane符号では、論理Hゲートの実装の際に、各量子ビットに並列に操作を加えることで、論理ビット操作を実装することができる。"
   ]
  },
  {
   "cell_type": "markdown",
   "id": "4e44f7f8",
   "metadata": {},
   "source": [
    "# ライブラリのインポート"
   ]
  },
  {
   "cell_type": "code",
   "execution_count": null,
   "id": "744c81bf",
   "metadata": {},
   "outputs": [],
   "source": [
    "%pip install qiskit==0.45.2 qiskit-aer==0.12.0\n",
    "%pip install pylatexenc"
   ]
  },
  {
   "cell_type": "code",
   "execution_count": null,
   "id": "325908f1",
   "metadata": {},
   "outputs": [],
   "source": [
    "import numpy as np\n",
    "from qiskit import QuantumCircuit, QuantumRegister, ClassicalRegister\n",
    "from qiskit_aer import AerSimulator\n",
    "from qiskit.visualization import plot_histogram\n",
    "from qiskit_aer.noise import pauli_error\n",
    "from qiskit_aer.noise.errors.quantum_error import QuantumChannelInstruction"
   ]
  },
  {
   "cell_type": "markdown",
   "id": "0e6a8b85",
   "metadata": {},
   "source": [
    "# エラーチャネルの作成"
   ]
  },
  {
   "cell_type": "markdown",
   "id": "f551eb7b",
   "metadata": {},
   "source": [
    "課題1と同様にエラーを起こす部分を用意します。\n",
    "\n",
    "ここでは先ほどよりも少し高めのエラー率にしています。  \n",
    "理由としては、ここでは17量子ビットを使用する長い回路を利用するため、shot数を多く確保すると実行時間伸びてしまいます。  \n",
    "そのため、shot数を抑えたいのですが、低めのエラー率だと、エラーが出て欲しい場面で観測されない可能性があるため、エラー率を高めています。"
   ]
  },
  {
   "cell_type": "code",
   "execution_count": null,
   "id": "1550e54b",
   "metadata": {},
   "outputs": [],
   "source": [
    "n_shots = 1000 # シミュレーターでのサンプリング回数\n",
    "backend_sim = AerSimulator() # シミュレーターの用意\n",
    "p_error = 0.1 # エラー確率"
   ]
  },
  {
   "cell_type": "code",
   "execution_count": null,
   "id": "aa5ed1fd",
   "metadata": {},
   "outputs": [],
   "source": [
    "def make_bitphase_error_channel(p_error: float, print_flag: bool = True) -> QuantumChannelInstruction:\n",
    "    bit_flip = pauli_error([('X', p_error), ('I', 1 - p_error)])\n",
    "    phase_flip = pauli_error([('Z', p_error), ('I', 1 - p_error)])\n",
    "\n",
    "    bitphase_flip = bit_flip.compose(phase_flip)\n",
    "    \n",
    "    if print_flag:\n",
    "        print(bitphase_flip)\n",
    "    return bitphase_flip.to_instruction()"
   ]
  },
  {
   "cell_type": "code",
   "execution_count": null,
   "id": "419630a8",
   "metadata": {},
   "outputs": [],
   "source": [
    "bitphase_flip = make_bitphase_error_channel(p_error)"
   ]
  },
  {
   "cell_type": "markdown",
   "id": "c5c875c8",
   "metadata": {},
   "source": [
    "まずは、符号化をしないままのベル状態に1量子ビットだけノイズをかけてみます。"
   ]
  },
  {
   "cell_type": "code",
   "execution_count": null,
   "id": "ec4e78c6",
   "metadata": {},
   "outputs": [],
   "source": [
    "# エラーありの回路\n",
    "n_qubits = 2\n",
    "circ_noise = QuantumCircuit(n_qubits, 2)\n",
    "\n",
    "circ_noise.h(0)\n",
    "circ_noise.cx(0, 1)\n",
    "\n",
    "circ_noise.append(bitphase_flip, [0])\n",
    "\n",
    "circ_noise.measure([0, 1], [0, 1])\n",
    "circ_noise.draw(\"mpl\")"
   ]
  },
  {
   "cell_type": "code",
   "execution_count": null,
   "id": "a394eda3",
   "metadata": {},
   "outputs": [],
   "source": [
    "result_noise = backend_sim.run(circ_noise, shots=n_shots).result()\n",
    "plot_histogram(result_noise.get_counts(0))"
   ]
  },
  {
   "cell_type": "markdown",
   "id": "cd348d13",
   "metadata": {},
   "source": [
    "本来出現しないはずの01と11がそれぞれ約5％の確率で出現しています。（合計10％のエラー率）"
   ]
  },
  {
   "cell_type": "markdown",
   "id": "79413735",
   "metadata": {},
   "source": [
    "# Steane符号"
   ]
  },
  {
   "cell_type": "markdown",
   "id": "b1de12cb",
   "metadata": {},
   "source": [
    "まずは1ビットの情報をSteane符号で符号化して、挙動を確認してみます。\n",
    "\n",
    "Xゲートで反転させただけの状態を用意し、符号化します。"
   ]
  },
  {
   "cell_type": "markdown",
   "id": "f39e56db",
   "metadata": {},
   "source": [
    "詳細については、以下のwebサイトが参考になります。\n",
    "- https://intra.ece.ucr.edu/~korotkov/courses/EE214-QC/QC-7-error-correction.pdf"
   ]
  },
  {
   "cell_type": "code",
   "execution_count": null,
   "id": "3a735827",
   "metadata": {},
   "outputs": [],
   "source": [
    "def steane_code(noise_channel: list[int] = [], p_error: float = 0.1) -> QuantumCircuit:\n",
    "    # noise_channel : ノイズをかけたいチャネル(int)を入れたリスト\n",
    "    # p_error : エラーの発生確率\n",
    "    \n",
    "    # エラーの定義\n",
    "    bitphase_flip = make_bitphase_error_channel(p_error, print_flag=False)\n",
    "    \n",
    "    # 回路の記述\n",
    "    n_qubits = 7 + 6\n",
    "    qr = QuantumRegister(n_qubits)\n",
    "    cr = ClassicalRegister(1)\n",
    "    ancilla_1 = ClassicalRegister(3)\n",
    "    ancilla_2 = ClassicalRegister(3)\n",
    "    circ = QuantumCircuit(qr, cr, ancilla_1, ancilla_2)\n",
    "\n",
    "    # |1>状態を符号化する\n",
    "    circ.x(3)\n",
    "    \n",
    "    circ.barrier()\n",
    "\n",
    "    # 符号化\n",
    "    circ.h(0)\n",
    "    circ.h(1)\n",
    "    circ.h(2)\n",
    "    \n",
    "    circ.cx(3, 4)\n",
    "    circ.cx(3, 5)\n",
    "    \n",
    "    circ.cx(2, 3)\n",
    "    circ.cx(2, 4)\n",
    "    circ.cx(2, 6)\n",
    "    \n",
    "    circ.cx(1, 3)\n",
    "    circ.cx(1, 5)\n",
    "    circ.cx(1, 6)\n",
    "    \n",
    "    circ.cx(0, 4)\n",
    "    circ.cx(0, 5)\n",
    "    circ.cx(0, 6)\n",
    "    \n",
    "    circ.barrier()\n",
    "\n",
    "    # エラーが発生する部分\n",
    "    for i in noise_channel:\n",
    "        assert (0 <= i) and (i < 13)\n",
    "        circ.append(bitphase_flip, [i])\n",
    "\n",
    "    circ.barrier()\n",
    "\n",
    "    # エラー訂正\n",
    "    \n",
    "    # アンシラに情報を送る\n",
    "    for i in range(6):\n",
    "        circ.reset(i + 7)\n",
    "        circ.h(i + 7)\n",
    "        \n",
    "    circ.cz(7, 0)\n",
    "    circ.cz(7, 4)\n",
    "    circ.cz(7, 5)\n",
    "    circ.cz(7, 6)\n",
    "    \n",
    "    circ.cz(8, 1)\n",
    "    circ.cz(8, 3)\n",
    "    circ.cz(8, 5)\n",
    "    circ.cz(8, 6)\n",
    "\n",
    "    circ.cz(9, 2)\n",
    "    circ.cz(9, 3)\n",
    "    circ.cz(9, 4)\n",
    "    circ.cz(9, 6)\n",
    "    \n",
    "    circ.cx(10, 0)\n",
    "    circ.cx(10, 4)\n",
    "    circ.cx(10, 5)\n",
    "    circ.cx(10, 6)\n",
    "\n",
    "    circ.cx(11, 1)\n",
    "    circ.cx(11, 3)\n",
    "    circ.cx(11, 5)\n",
    "    circ.cx(11, 6)\n",
    "    \n",
    "    circ.cx(12, 2)\n",
    "    circ.cx(12, 3)\n",
    "    circ.cx(12, 4)\n",
    "    circ.cx(12, 6)\n",
    "    \n",
    "    for i in range(6):\n",
    "        circ.h(i + 7)\n",
    "    \n",
    "    circ.barrier()\n",
    "    \n",
    "    # シンドローム測定\n",
    "    circ.measure(qr[7:10], ancilla_1)\n",
    "    circ.measure(qr[10:], ancilla_2)\n",
    "    \n",
    "    # ビット反転\n",
    "    \n",
    "    with circ.if_test((ancilla_1, 0b001)):\n",
    "        circ.x(0)\n",
    "        \n",
    "    with circ.if_test((ancilla_1, 0b010)):\n",
    "        circ.x(1)\n",
    "    \n",
    "    with circ.if_test((ancilla_1, 0b100)):\n",
    "        circ.x(2)\n",
    "    \n",
    "    with circ.if_test((ancilla_1, 0b110)):\n",
    "        circ.x(3)\n",
    "        \n",
    "    with circ.if_test((ancilla_1, 0b101)):\n",
    "        circ.x(4)\n",
    "        \n",
    "    with circ.if_test((ancilla_1, 0b011)):\n",
    "        circ.x(5)\n",
    "    \n",
    "    with circ.if_test((ancilla_1, 0b111)):\n",
    "        circ.x(6)\n",
    "    \n",
    "    circ.barrier()\n",
    "    \n",
    "    # 位相反転\n",
    "    \n",
    "    with circ.if_test((ancilla_2, 0b001)):\n",
    "        circ.z(0)\n",
    "        \n",
    "    with circ.if_test((ancilla_2, 0b010)):\n",
    "        circ.z(1)\n",
    "    \n",
    "    with circ.if_test((ancilla_2, 0b100)):\n",
    "        circ.z(2)\n",
    "        \n",
    "    with circ.if_test((ancilla_2, 0b110)):\n",
    "        circ.z(3)\n",
    "    \n",
    "    with circ.if_test((ancilla_2, 0b101)):\n",
    "        circ.z(4)\n",
    "    \n",
    "    with circ.if_test((ancilla_2, 0b011)):\n",
    "        circ.z(5)\n",
    "        \n",
    "    with circ.if_test((ancilla_2, 0b111)):\n",
    "        circ.z(6)\n",
    "    \n",
    "    circ.barrier()\n",
    "    \n",
    "    # 復号\n",
    "    circ.cx(0, 4)\n",
    "    circ.cx(0, 5)\n",
    "    circ.cx(0, 6)\n",
    "    \n",
    "    circ.cx(1, 3)\n",
    "    circ.cx(1, 5)\n",
    "    circ.cx(1, 6)\n",
    "    \n",
    "    circ.cx(2, 3)\n",
    "    circ.cx(2, 4)\n",
    "    circ.cx(2, 6)\n",
    "    \n",
    "    circ.cx(3, 4)\n",
    "    circ.cx(3, 5)\n",
    "    \n",
    "    circ.h(0)\n",
    "    circ.h(1)\n",
    "    circ.h(2)\n",
    "\n",
    "    circ.measure(qr[3], cr)\n",
    "\n",
    "    return circ"
   ]
  },
  {
   "cell_type": "code",
   "execution_count": null,
   "id": "ad9201ba",
   "metadata": {},
   "outputs": [],
   "source": [
    "circ = steane_code()"
   ]
  },
  {
   "cell_type": "code",
   "execution_count": null,
   "id": "972fc54c",
   "metadata": {
    "scrolled": false
   },
   "outputs": [],
   "source": [
    "circ.draw(\"mpl\")"
   ]
  },
  {
   "cell_type": "code",
   "execution_count": null,
   "id": "998830be",
   "metadata": {},
   "outputs": [],
   "source": [
    "result_ideal = backend_sim.run(circ, shots=n_shots).result()\n",
    "plot_histogram(result_ideal.get_counts(0))"
   ]
  },
  {
   "cell_type": "markdown",
   "id": "3b7dcff3",
   "metadata": {},
   "source": [
    "アンシラとターゲットの量子ビットの測定結果がすべて乗っています。最上位ビットの1がターゲットのビットになります。"
   ]
  },
  {
   "cell_type": "markdown",
   "id": "89a22981",
   "metadata": {},
   "source": [
    "# 誤り訂正"
   ]
  },
  {
   "cell_type": "markdown",
   "id": "ec2a20a7",
   "metadata": {},
   "source": [
    "Steane符号を使って、1量子ビットまでの誤りが訂正できることを確認します。"
   ]
  },
  {
   "cell_type": "code",
   "execution_count": null,
   "id": "05ce4d7f",
   "metadata": {},
   "outputs": [],
   "source": [
    "circ = steane_code(noise_channel=[0])"
   ]
  },
  {
   "cell_type": "code",
   "execution_count": null,
   "id": "3e971c7f",
   "metadata": {},
   "outputs": [],
   "source": [
    "result_noise = backend_sim.run(circ, shots=n_shots).result()\n",
    "plot_histogram(result_noise.get_counts(0))"
   ]
  },
  {
   "cell_type": "markdown",
   "id": "16248819",
   "metadata": {},
   "source": [
    "最上位ビット（測定したい結果）がすべて1になっていることから、誤り訂正ができていることがわかります。\n",
    "\n",
    "それぞれのアンシラが100になっているのが1量子ビット目のビット反転、位相反転のエラーに相当します。  \n",
    "（一番右のケースが、両方のエラーが発生している場合）"
   ]
  },
  {
   "cell_type": "markdown",
   "id": "923f32f8",
   "metadata": {},
   "source": [
    "別の量子ビットにエラーを乗せてみます。"
   ]
  },
  {
   "cell_type": "code",
   "execution_count": null,
   "id": "e026cb4d",
   "metadata": {},
   "outputs": [],
   "source": [
    "circ = steane_code(noise_channel=[3])"
   ]
  },
  {
   "cell_type": "code",
   "execution_count": null,
   "id": "5565d0ac",
   "metadata": {
    "scrolled": true
   },
   "outputs": [],
   "source": [
    "result_noise = backend_sim.run(circ, shots=n_shots).result()\n",
    "plot_histogram(result_noise.get_counts(0))"
   ]
  },
  {
   "cell_type": "markdown",
   "id": "38fbc9c6",
   "metadata": {},
   "source": [
    "また、2量子ビット以上の場合は訂正できないことを確認してみます。"
   ]
  },
  {
   "cell_type": "code",
   "execution_count": null,
   "id": "52ee2f8c",
   "metadata": {},
   "outputs": [],
   "source": [
    "circ = steane_code(noise_channel=[0, 3])"
   ]
  },
  {
   "cell_type": "code",
   "execution_count": null,
   "id": "8dde6328",
   "metadata": {},
   "outputs": [],
   "source": [
    "result_noise = backend_sim.run(circ, shots=n_shots).result()\n",
    "plot_histogram(result_noise.get_counts(0))"
   ]
  },
  {
   "cell_type": "markdown",
   "id": "60e494c1",
   "metadata": {},
   "source": [
    "両方の量子ビットにエラーが発生した場合に、アンシラが111という状態になり、6番目の量子ビットにエラーが起きた場合と区別がつかなくなります。"
   ]
  },
  {
   "cell_type": "markdown",
   "id": "d958a022",
   "metadata": {},
   "source": [
    "----"
   ]
  },
  {
   "cell_type": "markdown",
   "id": "1badd1cf",
   "metadata": {},
   "source": [
    "# 論理ビット操作によるベル状態の作成"
   ]
  },
  {
   "cell_type": "markdown",
   "id": "fcdc92e1",
   "metadata": {},
   "source": [
    "今度はベル状態の作成を試すのですが、事前にベル状態を作成したものを符号化するのではなく、符号化された論理量子ビットに対して、論理ビット操作を加えて、ベル状態を作成します。"
   ]
  },
  {
   "cell_type": "markdown",
   "id": "ff73ae18",
   "metadata": {},
   "source": [
    "先ほどの例では、補助量子ビットを6量子ビット使っていますが、量子ビット数を節約するため、リセットしながら3量子ビットを使い回して実装します。"
   ]
  },
  {
   "cell_type": "code",
   "execution_count": null,
   "id": "44d9d432",
   "metadata": {},
   "outputs": [],
   "source": [
    "def steane_code_bell_state(noise_channel: list[int] = [], p_error: float = 0.1) -> QuantumCircuit:\n",
    "    # noise_channel : ノイズをかけたいチャネル(int)を入れたリスト\n",
    "    # p_error : エラーの発生確率\n",
    "    \n",
    "    # エラーの定義\n",
    "    bitphase_flip = make_bitphase_error_channel(p_error, print_flag=False)\n",
    "\n",
    "    # 回路の記述\n",
    "    # 符号化用が7x2ビット，アンシラが3ビット\n",
    "    n_qubits = 14 + 3\n",
    "    \n",
    "    qr = QuantumRegister(n_qubits)\n",
    "    cr = ClassicalRegister(2)\n",
    "    ancilla = ClassicalRegister(3)\n",
    "    \n",
    "    circ = QuantumCircuit(qr, cr, ancilla)\n",
    "    \n",
    "    circ.barrier()\n",
    "\n",
    "    # 符号化\n",
    "    for i in range(2):\n",
    "        circ.h(0 + i*7)\n",
    "        circ.h(1 + i*7)\n",
    "        circ.h(2 + i*7)\n",
    "\n",
    "        circ.cx(3 + i*7, 4 + i*7)\n",
    "        circ.cx(3 + i*7, 5 + i*7)\n",
    "\n",
    "        circ.cx(2 + i*7, 3 + i*7)\n",
    "        circ.cx(2 + i*7, 4 + i*7)\n",
    "        circ.cx(2 + i*7, 6 + i*7)\n",
    "\n",
    "        circ.cx(1 + i*7, 3 + i*7)\n",
    "        circ.cx(1 + i*7, 5 + i*7)\n",
    "        circ.cx(1 + i*7, 6 + i*7)\n",
    "\n",
    "        circ.cx(0 + i*7, 4 + i*7)\n",
    "        circ.cx(0 + i*7, 5 + i*7)\n",
    "        circ.cx(0 + i*7, 6 + i*7)\n",
    "    \n",
    "    circ.barrier()\n",
    "\n",
    "    # エラーチャネル\n",
    "    # ここで、論理アダマールゲートと論理CNOTゲートをかける \n",
    "    for i in range(7):\n",
    "        circ.h(i)\n",
    "        \n",
    "    for i in range(7):\n",
    "        circ.cx(i, i+7)\n",
    "    \n",
    "    # エラーは以下で発生させる\n",
    "    for i in noise_channel:\n",
    "        assert (0 <= i) and (i < 17)\n",
    "        circ.append(bitphase_flip, [i])\n",
    "\n",
    "    # エラー訂正\n",
    "    \n",
    "    for i in range(2): # 論理ビット数に対応するループ\n",
    "        circ.barrier()\n",
    "        for j in range(3): # アンシラの初期化（同じものを使い回す）\n",
    "            circ.reset(j + 14) \n",
    "            circ.h(j + 14)\n",
    "\n",
    "        # アンシラに情報を送る\n",
    "        circ.cz(14, 0 + i*7)\n",
    "        circ.cz(14, 4 + i*7)\n",
    "        circ.cz(14, 5 + i*7)\n",
    "        circ.cz(14, 6 + i*7)\n",
    "\n",
    "        circ.cz(15, 1 + i*7)\n",
    "        circ.cz(15, 3 + i*7)\n",
    "        circ.cz(15, 5 + i*7)\n",
    "        circ.cz(15, 6 + i*7)\n",
    "\n",
    "        circ.cz(16, 2 + i*7)\n",
    "        circ.cz(16, 3 + i*7)\n",
    "        circ.cz(16, 4 + i*7)\n",
    "        circ.cz(16, 6 + i*7)\n",
    "\n",
    "        for j in range(3):\n",
    "            circ.h(j + 14)\n",
    "            \n",
    "        # シンドローム測定\n",
    "        circ.measure(qr[14:17], ancilla)\n",
    "\n",
    "        circ.barrier()\n",
    "        \n",
    "        # ビット反転\n",
    "        \n",
    "        with circ.if_test((ancilla, 0b001)):\n",
    "            circ.x(0 + i*7)\n",
    "            \n",
    "        with circ.if_test((ancilla, 0b010)):\n",
    "            circ.x(1 + i*7)\n",
    "            \n",
    "        with circ.if_test((ancilla, 0b100)):\n",
    "            circ.x(2 + i*7)\n",
    "            \n",
    "        with circ.if_test((ancilla, 0b110)):\n",
    "            circ.x(3 + i*7)\n",
    "            \n",
    "        with circ.if_test((ancilla, 0b101)):\n",
    "            circ.x(4 + i*7)\n",
    "        \n",
    "        with circ.if_test((ancilla, 0b011)):\n",
    "            circ.x(5 + i*7)\n",
    "            \n",
    "        with circ.if_test((ancilla, 0b111)):\n",
    "            circ.x(6 + i*7)\n",
    "\n",
    "        # アンシラをリセットして使い回す\n",
    "        circ.barrier()\n",
    "        for j in range(3):\n",
    "            circ.reset(j + 14)\n",
    "            circ.h(j + 14)\n",
    "            \n",
    "        circ.cx(14, 0 + i*7)\n",
    "        circ.cx(14, 4 + i*7)\n",
    "        circ.cx(14, 5 + i*7)\n",
    "        circ.cx(14, 6 + i*7)\n",
    "\n",
    "        circ.cx(15, 1 + i*7)\n",
    "        circ.cx(15, 3 + i*7)\n",
    "        circ.cx(15, 5 + i*7)\n",
    "        circ.cx(15, 6 + i*7)\n",
    "\n",
    "        circ.cx(16, 2 + i*7)\n",
    "        circ.cx(16, 3 + i*7)\n",
    "        circ.cx(16, 4 + i*7)\n",
    "        circ.cx(16, 6 + i*7)\n",
    "        \n",
    "        for j in range(3):\n",
    "            circ.h(j + 14)\n",
    "            \n",
    "        # シンドローム測定\n",
    "        circ.measure(qr[14:17], ancilla)\n",
    "        \n",
    "        circ.barrier()\n",
    "        \n",
    "        # 位相反転\n",
    "        with circ.if_test((ancilla, 0b001)):\n",
    "            circ.z(0 + i*7)\n",
    "            \n",
    "        with circ.if_test((ancilla, 0b010)):\n",
    "            circ.z(1 + i*7)\n",
    "            \n",
    "        with circ.if_test((ancilla, 0b100)):\n",
    "            circ.z(2 + i*7)\n",
    "            \n",
    "        with circ.if_test((ancilla, 0b110)):\n",
    "            circ.z(3 + i*7)\n",
    "            \n",
    "        with circ.if_test((ancilla, 0b101)):\n",
    "            circ.z(4 + i*7)\n",
    "        \n",
    "        with circ.if_test((ancilla, 0b011)):\n",
    "            circ.z(5 + i*7)\n",
    "            \n",
    "        with circ.if_test((ancilla, 0b111)):\n",
    "            circ.z(6 + i*7)\n",
    "\n",
    "\n",
    "    circ.barrier()\n",
    "    \n",
    "    # 復号\n",
    "    for i in range(2):\n",
    "        circ.cx(0 + i*7, 4 + i*7)\n",
    "        circ.cx(0 + i*7, 5 + i*7)\n",
    "        circ.cx(0 + i*7, 6 + i*7)\n",
    "\n",
    "        circ.cx(1 + i*7, 3 + i*7)\n",
    "        circ.cx(1 + i*7, 5 + i*7)\n",
    "        circ.cx(1 + i*7, 6 + i*7)\n",
    "\n",
    "        circ.cx(2 + i*7, 3 + i*7)\n",
    "        circ.cx(2 + i*7, 4 + i*7)\n",
    "        circ.cx(2 + i*7, 6 + i*7)\n",
    "\n",
    "        circ.cx(3 + i*7, 4 + i*7)\n",
    "        circ.cx(3 + i*7, 5 + i*7)\n",
    "\n",
    "        circ.h(0 + i*7)\n",
    "        circ.h(1 + i*7)\n",
    "        circ.h(2 + i*7)\n",
    "\n",
    "    # 測定\n",
    "    circ.measure([3, 10], [0, 1])\n",
    "\n",
    "    return circ"
   ]
  },
  {
   "cell_type": "code",
   "execution_count": null,
   "id": "65b75560",
   "metadata": {},
   "outputs": [],
   "source": [
    "circ = steane_code_bell_state()"
   ]
  },
  {
   "cell_type": "markdown",
   "id": "ed811952",
   "metadata": {},
   "source": [
    "以下のコードで回路を描画できますが、非常に巨大な回路になります。"
   ]
  },
  {
   "cell_type": "code",
   "execution_count": null,
   "id": "a5d6b897",
   "metadata": {
    "scrolled": false
   },
   "outputs": [],
   "source": [
    "circ.draw(\"mpl\")"
   ]
  },
  {
   "cell_type": "markdown",
   "id": "0835b5a3",
   "metadata": {},
   "source": [
    "まずは誤りをかけない状態で、ベル状態が作れていることを確認します。"
   ]
  },
  {
   "cell_type": "code",
   "execution_count": null,
   "id": "6d6164d6",
   "metadata": {},
   "outputs": [],
   "source": [
    "%%time\n",
    "result_ideal = backend_sim.run(circ, shots=n_shots).result()\n",
    "plot_histogram(result_ideal.get_counts(0))"
   ]
  },
  {
   "cell_type": "markdown",
   "id": "3627d957",
   "metadata": {},
   "source": [
    "# 課題1"
   ]
  },
  {
   "cell_type": "markdown",
   "id": "a6670ac7",
   "metadata": {},
   "source": [
    "この回路にエラーを加えて、訂正できることを確認してみましょう。"
   ]
  },
  {
   "cell_type": "code",
   "execution_count": null,
   "id": "356bea0e",
   "metadata": {},
   "outputs": [],
   "source": [
    "circ = steane_code_bell_state(noise_channel=[0])"
   ]
  },
  {
   "cell_type": "code",
   "execution_count": null,
   "id": "ef51f8bd",
   "metadata": {},
   "outputs": [],
   "source": [
    "%%time\n",
    "result_noise = backend_sim.run(circ, shots=n_shots).result()\n",
    "plot_histogram(result_noise.get_counts(0))"
   ]
  },
  {
   "cell_type": "code",
   "execution_count": null,
   "id": "55bb042e",
   "metadata": {},
   "outputs": [],
   "source": []
  },
  {
   "cell_type": "markdown",
   "id": "96524cf1",
   "metadata": {},
   "source": [
    "# 課題2"
   ]
  },
  {
   "cell_type": "markdown",
   "id": "aa1e62ce",
   "metadata": {},
   "source": [
    "誤りの発生確率を変化させながら、実際に誤りが訂正できる確率を確認してみましょう。"
   ]
  },
  {
   "cell_type": "markdown",
   "id": "fecd17aa",
   "metadata": {},
   "source": [
    "すべての量子ビットにエラーをかけて、結果を見てみます。"
   ]
  },
  {
   "cell_type": "code",
   "execution_count": null,
   "id": "1b67d671",
   "metadata": {},
   "outputs": [],
   "source": [
    "circ = steane_code_bell_state(noise_channel=range(14), p_error=0.1)"
   ]
  },
  {
   "cell_type": "code",
   "execution_count": null,
   "id": "10bb4dea",
   "metadata": {
    "scrolled": true
   },
   "outputs": [],
   "source": [
    "%%time\n",
    "result_noise = backend_sim.run(circ, shots=n_shots).result()\n",
    "plot_histogram(result_noise.get_counts(0))"
   ]
  },
  {
   "cell_type": "markdown",
   "id": "9fd1de78",
   "metadata": {},
   "source": [
    "このままでは見づらいので、以下の関数で本来測定したいビットの値だけ取り出します。"
   ]
  },
  {
   "cell_type": "code",
   "execution_count": null,
   "id": "d141fdbf",
   "metadata": {},
   "outputs": [],
   "source": [
    "def check_result(result) -> dict:\n",
    "    # result : qiskit.result.result.Result\n",
    "    \n",
    "    counts = result.get_counts()\n",
    "    output = dict()\n",
    "    \n",
    "    for key in counts.keys():\n",
    "        new_key = key[-2:] # 上位2ビットだけを取り出して、新たなキーにする\n",
    "        \n",
    "        if new_key not in output.keys():\n",
    "            output[new_key] = counts[key]\n",
    "        else:\n",
    "            output[new_key] += counts[key]\n",
    "    \n",
    "    return output"
   ]
  },
  {
   "cell_type": "code",
   "execution_count": null,
   "id": "e03782b9",
   "metadata": {},
   "outputs": [],
   "source": [
    "output = check_result(result_noise)\n",
    "print(output)\n",
    "print(output[\"00\"] + output[\"11\"]) # 正しい出力の件数"
   ]
  },
  {
   "cell_type": "markdown",
   "id": "62f84842",
   "metadata": {},
   "source": [
    "誤り率を変化させながら、実施し、結果の変化を確認してみましょう。"
   ]
  },
  {
   "cell_type": "code",
   "execution_count": null,
   "id": "505e021b",
   "metadata": {},
   "outputs": [],
   "source": []
  }
 ],
 "metadata": {
  "kernelspec": {
   "display_name": "Python 3",
   "language": "python",
   "name": "python3"
  },
  "language_info": {
   "codemirror_mode": {
    "name": "ipython",
    "version": 3
   },
   "file_extension": ".py",
   "mimetype": "text/x-python",
   "name": "python",
   "nbconvert_exporter": "python",
   "pygments_lexer": "ipython3",
   "version": "3.7.6"
  }
 },
 "nbformat": 4,
 "nbformat_minor": 5
}
