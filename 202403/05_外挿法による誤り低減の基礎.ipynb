{
 "cells": [
  {
   "cell_type": "markdown",
   "id": "7e458215",
   "metadata": {},
   "source": [
    "# 外挿法によるError Mitigationの基礎"
   ]
  },
  {
   "cell_type": "markdown",
   "id": "7f1f61ef",
   "metadata": {},
   "source": [
    "このノートブックでは、Error Mitigationの代表的な手法である外挿法(ZNE : Zero Noise Extrapolation)について学ぶ。\n",
    "\n",
    "1量子ビットに対し、回転ゲートを作用させるだけの簡単な回路を題材に、Error Mitigationの流れを確認する。"
   ]
  },
  {
   "cell_type": "code",
   "execution_count": null,
   "id": "7a62baad",
   "metadata": {},
   "outputs": [],
   "source": [
    "%pip install qiskit==0.45.2 qiskit-aer==0.12.0\n",
    "%pip install pylatexenc"
   ]
  },
  {
   "cell_type": "code",
   "execution_count": null,
   "id": "bba608d6",
   "metadata": {},
   "outputs": [],
   "source": [
    "import numpy as np\n",
    "from qiskit import QuantumCircuit, transpile\n",
    "from qiskit.quantum_info import Kraus, SuperOp\n",
    "from qiskit_aer import AerSimulator\n",
    "from qiskit.visualization import plot_histogram\n",
    "from matplotlib import pyplot as plt\n",
    "\n",
    "from qiskit_aer.noise import (NoiseModel, QuantumError, ReadoutError,\n",
    "    pauli_error, depolarizing_error, thermal_relaxation_error)\n",
    "\n",
    "%matplotlib inline"
   ]
  },
  {
   "cell_type": "markdown",
   "id": "742faba6",
   "metadata": {},
   "source": [
    "# エラーモデルの定義"
   ]
  },
  {
   "cell_type": "code",
   "execution_count": null,
   "id": "30203012",
   "metadata": {},
   "outputs": [],
   "source": [
    "def make_noise_model(p_error: float) -> NoiseModel:\n",
    "    # p_error : ゲートエラー確率\n",
    "\n",
    "    bit_flip = pauli_error([('X', p_error), ('I', 1 - p_error)])\n",
    "    phase_flip = pauli_error([('Z', p_error), ('I', 1 - p_error)])\n",
    "    bitphase_flip = bit_flip.compose(phase_flip)\n",
    "\n",
    "    error_gate1 = bitphase_flip\n",
    "    error_gate2 = error_gate1.tensor(bitphase_flip)\n",
    "\n",
    "    noise_model = NoiseModel()\n",
    "    noise_model.add_all_qubit_quantum_error(error_gate1, [\"x\", \"rx\"])\n",
    "    noise_model.add_all_qubit_quantum_error(error_gate2, [\"cx\"])\n",
    "\n",
    "    print(noise_model)\n",
    "    \n",
    "    return noise_model"
   ]
  },
  {
   "cell_type": "code",
   "execution_count": null,
   "id": "769cf4d6",
   "metadata": {},
   "outputs": [],
   "source": [
    "p_noise = 0.05\n",
    "noise_model = make_noise_model(p_noise)"
   ]
  },
  {
   "cell_type": "markdown",
   "id": "bc586692",
   "metadata": {},
   "source": [
    "# 回転ゲートのみの回路で実験"
   ]
  },
  {
   "cell_type": "markdown",
   "id": "ce7992bc",
   "metadata": {},
   "source": [
    "まずは、1量子ビットに対して回転ゲートのみを適用する簡単な回路を作成してみる。"
   ]
  },
  {
   "cell_type": "code",
   "execution_count": null,
   "id": "55c13a0c",
   "metadata": {},
   "outputs": [],
   "source": [
    "n_shots = 100_000\n",
    "theta = np.pi / 4"
   ]
  },
  {
   "cell_type": "code",
   "execution_count": null,
   "id": "beb79d30",
   "metadata": {},
   "outputs": [],
   "source": [
    "n_qubits = 1\n",
    "circ = QuantumCircuit(n_qubits)\n",
    "\n",
    "circ.rx(theta, 0)\n",
    "circ.measure_all()\n",
    "circ.draw(\"mpl\")"
   ]
  },
  {
   "cell_type": "markdown",
   "id": "270bf4e6",
   "metadata": {},
   "source": [
    "## エラーなしの場合"
   ]
  },
  {
   "cell_type": "code",
   "execution_count": null,
   "id": "114571a4",
   "metadata": {},
   "outputs": [],
   "source": [
    "sim_ideal = AerSimulator()\n",
    "result_ideal = sim_ideal.run(circ, shots=n_shots).result()\n",
    "plot_histogram(result_ideal.get_counts(0))"
   ]
  },
  {
   "cell_type": "code",
   "execution_count": null,
   "id": "7065dd6a",
   "metadata": {},
   "outputs": [],
   "source": [
    "true_score = result_ideal.get_counts(0)[\"1\"] / n_shots\n",
    "print(true_score)"
   ]
  },
  {
   "cell_type": "markdown",
   "id": "ca18a3c4",
   "metadata": {},
   "source": [
    "エラーなしの場合、15％弱の割合で1が出現する。"
   ]
  },
  {
   "cell_type": "markdown",
   "id": "10965b8b",
   "metadata": {},
   "source": [
    "## エラーありの場合"
   ]
  },
  {
   "cell_type": "markdown",
   "id": "10cf78c4",
   "metadata": {},
   "source": [
    "この回路に対して、エラー率が5％のノイズモデルを動かしてみる。"
   ]
  },
  {
   "cell_type": "code",
   "execution_count": null,
   "id": "0b756a23",
   "metadata": {},
   "outputs": [],
   "source": [
    "sim_noise = AerSimulator(noise_model=noise_model)\n",
    "result_noise = sim_noise.run(circ, shots=n_shots).result()\n",
    "counts_noise = result_noise.get_counts(0)\n",
    "\n",
    "# Plot noisy output\n",
    "plot_histogram(counts_noise)"
   ]
  },
  {
   "cell_type": "code",
   "execution_count": null,
   "id": "16a6d266",
   "metadata": {},
   "outputs": [],
   "source": [
    "noise_score = result_noise.get_counts(0)[\"1\"] / n_shots\n",
    "print(noise_score)"
   ]
  },
  {
   "cell_type": "markdown",
   "id": "8860e54a",
   "metadata": {},
   "source": [
    "エラーが増えることで、1の出現頻度が増え、18％程度になっている。"
   ]
  },
  {
   "cell_type": "markdown",
   "id": "a6e25ad3",
   "metadata": {},
   "source": [
    "# エラーを増幅する"
   ]
  },
  {
   "cell_type": "markdown",
   "id": "199d8c1d",
   "metadata": {},
   "source": [
    "ここで、エラーの発生確率を2倍にしたモデルを作成してみる。"
   ]
  },
  {
   "cell_type": "code",
   "execution_count": null,
   "id": "f721c89e",
   "metadata": {},
   "outputs": [],
   "source": [
    "noise_model_2 = make_noise_model(p_noise*2)"
   ]
  },
  {
   "cell_type": "code",
   "execution_count": null,
   "id": "f4a70173",
   "metadata": {},
   "outputs": [],
   "source": [
    "sim_noise_2 = AerSimulator(noise_model=noise_model_2)\n",
    "result_noise_2 = sim_noise_2.run(circ, shots=n_shots).result()\n",
    "counts_noise_2 = result_noise_2.get_counts(0)\n",
    "\n",
    "# Plot noisy output\n",
    "plot_histogram(counts_noise_2)"
   ]
  },
  {
   "cell_type": "code",
   "execution_count": null,
   "id": "d13e48c8",
   "metadata": {
    "scrolled": true
   },
   "outputs": [],
   "source": [
    "noise_score_2 = result_noise_2.get_counts(0)[\"1\"] / n_shots\n",
    "print(noise_score_2)"
   ]
  },
  {
   "cell_type": "markdown",
   "id": "55833f1f",
   "metadata": {},
   "source": [
    "さらにエラーが増え、22％程度のエラー発生率になっている。"
   ]
  },
  {
   "cell_type": "markdown",
   "id": "fab9bd5b",
   "metadata": {},
   "source": [
    "回路中のゲートエラー率が5％増えたことで、出力の1の出現頻度が18％→22％に増えた。\n",
    "\n",
    "ここで、（エラー率10％の回路の出力 - エラー率5％の回路の出力）がエラーが5％増えることの効果とみなして，\n",
    "\n",
    "これをエラー率5％の回路の出力から引き算することで，仮想的にエラー率0％の回路の出力を求める。"
   ]
  },
  {
   "cell_type": "code",
   "execution_count": null,
   "id": "aebec9d4",
   "metadata": {},
   "outputs": [],
   "source": [
    "mitigated_score = noise_score - (noise_score_2 - noise_score)\n",
    "print(mitigated_score)"
   ]
  },
  {
   "cell_type": "markdown",
   "id": "3a4727ae",
   "metadata": {},
   "source": [
    "多少差はあるが，何も補正しないよりは良い結果が得られた。\n",
    "\n",
    "図でイメージを示すと、以下の通りである。"
   ]
  },
  {
   "cell_type": "code",
   "execution_count": null,
   "id": "a104b369",
   "metadata": {},
   "outputs": [],
   "source": [
    "plt.plot([p_noise, p_noise*2],[noise_score, noise_score_2], \"o-\")\n",
    "plt.plot([0., p_noise],[mitigated_score, noise_score], \"o--\")\n",
    "plt.scatter([0],[true_score],c=\"r\")\n",
    "plt.xticks([0.01 * i for i in range(11)]);"
   ]
  },
  {
   "cell_type": "markdown",
   "id": "d05a9821",
   "metadata": {},
   "source": [
    "# 回路を長くする方法でのエラー増幅"
   ]
  },
  {
   "cell_type": "markdown",
   "id": "8583dd80",
   "metadata": {},
   "source": [
    "実際の量子コンピュータでは、ゲートエラー率を正確に2倍にするような操作を、一般のユーザが行うことは難しいことが多い。\n",
    "\n",
    "ここで、同じ出力になるような長い回路を作成することで、エラーを増幅させることを考える。"
   ]
  },
  {
   "cell_type": "markdown",
   "id": "4840d8ef",
   "metadata": {},
   "source": [
    "$ U = U U^{\\dagger} U $ とすることで，回路を長くして，エラーを増幅することができる。\n",
    "\n",
    "これにより、エラーが3倍に増える。"
   ]
  },
  {
   "cell_type": "code",
   "execution_count": null,
   "id": "9fe9041f",
   "metadata": {
    "scrolled": true
   },
   "outputs": [],
   "source": [
    "# System Specification\n",
    "n_qubits = 1\n",
    "circ_2 = QuantumCircuit(n_qubits)\n",
    "\n",
    "# Test Circuit\n",
    "circ_2.rx(theta, 0)\n",
    "circ_2.rx(-theta, 0)\n",
    "circ_2.rx(theta, 0)\n",
    "circ_2.measure_all()\n",
    "circ_2.draw(\"mpl\")"
   ]
  },
  {
   "cell_type": "code",
   "execution_count": null,
   "id": "acfe8091",
   "metadata": {},
   "outputs": [],
   "source": [
    "# Transpile circuit for noisy basis gates\n",
    "result_noise_3 = sim_noise.run(circ_2, shots=n_shots).result()\n",
    "counts_noise_3 = result_noise_3.get_counts(0)\n",
    "\n",
    "# Plot noisy output\n",
    "plot_histogram(counts_noise_3)"
   ]
  },
  {
   "cell_type": "code",
   "execution_count": null,
   "id": "6ef3e259",
   "metadata": {},
   "outputs": [],
   "source": [
    "noise_score_3 = result_noise_3.get_counts(0)[\"1\"] / n_shots\n",
    "print(noise_score_3)"
   ]
  },
  {
   "cell_type": "markdown",
   "id": "e78aa9a6",
   "metadata": {},
   "source": [
    "同様の理屈で，エラー率が0％のときの回路の出力を推定する"
   ]
  },
  {
   "cell_type": "code",
   "execution_count": null,
   "id": "15c37191",
   "metadata": {},
   "outputs": [],
   "source": [
    "mitigated_score_2 = noise_score - (noise_score_3 - noise_score) / 2\n",
    "print(mitigated_score_2)"
   ]
  },
  {
   "cell_type": "code",
   "execution_count": null,
   "id": "ce97bb85",
   "metadata": {},
   "outputs": [],
   "source": [
    "plt.plot([1, 3],[noise_score, noise_score_3], \"o-\")\n",
    "plt.plot([0, 1],[mitigated_score_2, noise_score], \"o--\")\n",
    "plt.scatter([0],[true_score],c=\"r\")\n",
    "plt.xticks([1 * i for i in range(4)]);"
   ]
  },
  {
   "cell_type": "markdown",
   "id": "9629c7a3",
   "metadata": {},
   "source": [
    "# さらにエラーを増幅してみる"
   ]
  },
  {
   "cell_type": "markdown",
   "id": "a8f25056",
   "metadata": {},
   "source": [
    "2点だけで推定するよりも、より多くの点を取って、推定するほうが正しい推定ができそうに思える。\n",
    "\n",
    "ここでは、さらにエラーを増幅してみる。\n",
    "\n",
    "$ U = U (U^{\\dagger} U)^n $ とすることで，さらに回路長を長くすることができる。"
   ]
  },
  {
   "cell_type": "code",
   "execution_count": null,
   "id": "ebc7bb2d",
   "metadata": {},
   "outputs": [],
   "source": [
    "def make_repeated_circ(n_repeat: int) -> QuantumCircuit:\n",
    "    # 指定された回数だけ回路長を増やした回路を作成する\n",
    "    n_qubits = 1\n",
    "    circ = QuantumCircuit(n_qubits)\n",
    "\n",
    "    circ.rx(theta, 0)\n",
    "    for _ in range(n_repeat):\n",
    "        circ.rx(-theta, 0)\n",
    "        circ.rx(theta, 0)\n",
    "    circ.measure_all()\n",
    "    \n",
    "    return circ"
   ]
  },
  {
   "cell_type": "code",
   "execution_count": null,
   "id": "5de8dc8e",
   "metadata": {},
   "outputs": [],
   "source": [
    "def calc_noise_score(circ):\n",
    "    # 与えられた回路の出力を計算する\n",
    "    result_noise = sim_noise.run(circ, shots=n_shots).result()\n",
    "    counts_noise = result_noise.get_counts(0)\n",
    "    noise_score = result_noise.get_counts(0)[\"1\"] / n_shots\n",
    "    return noise_score"
   ]
  },
  {
   "cell_type": "code",
   "execution_count": null,
   "id": "84f987e4",
   "metadata": {},
   "outputs": [],
   "source": [
    "circ_length_list = [1]\n",
    "score_list = [noise_score]\n",
    "for i in range(1, 10): # 増幅回数を1〜9で計算する\n",
    "    circ = make_repeated_circ(i)\n",
    "    repeated_noise_score = calc_noise_score(circ)\n",
    "    \n",
    "    circ_length_list.append(1 + i*2)\n",
    "    score_list.append(repeated_noise_score)"
   ]
  },
  {
   "cell_type": "code",
   "execution_count": null,
   "id": "f5c4e333",
   "metadata": {},
   "outputs": [],
   "source": [
    "score_list"
   ]
  },
  {
   "cell_type": "code",
   "execution_count": null,
   "id": "745356c9",
   "metadata": {},
   "outputs": [],
   "source": [
    "plt.plot(circ_length_list,score_list, \"o-\")\n",
    "plt.xticks([1 * i for i in range(20)]);"
   ]
  },
  {
   "cell_type": "markdown",
   "id": "f81dda35",
   "metadata": {},
   "source": [
    "回路長に応じた出力の変化がプロットできた。\n",
    "\n",
    "これに、適切な関数を当てはめれば、良い推定ができそうである。"
   ]
  },
  {
   "cell_type": "markdown",
   "id": "0509e0da",
   "metadata": {},
   "source": [
    "# 線形回帰を行ってみる"
   ]
  },
  {
   "cell_type": "markdown",
   "id": "d1b5d8e1",
   "metadata": {},
   "source": [
    "あまり筋がよさそうには見えないが、まずは簡単な線型回帰から行ってみる。\n",
    "\n",
    "ここでは、後ほどより複雑な関数を使うことを見越して、scipyのcurve_fitを用いる。"
   ]
  },
  {
   "cell_type": "code",
   "execution_count": null,
   "id": "d0a00e5e",
   "metadata": {},
   "outputs": [],
   "source": [
    "from scipy.optimize import curve_fit\n",
    "\n",
    "# 関数形を定義\n",
    "def linear_fitting(x, a, b):\n",
    "    return a*x + b"
   ]
  },
  {
   "cell_type": "code",
   "execution_count": null,
   "id": "a6188ba7",
   "metadata": {},
   "outputs": [],
   "source": [
    "# パラメータを推定する\n",
    "param, _ = curve_fit(linear_fitting, circ_length_list, score_list)"
   ]
  },
  {
   "cell_type": "code",
   "execution_count": null,
   "id": "0edeb0ad",
   "metadata": {},
   "outputs": [],
   "source": [
    "# 推定した関数に当てはめてみる\n",
    "x_arr = np.array([0] + circ_length_list)\n",
    "fitting_result = [linear_fitting(x, param[0], param[1]) for x in x_arr]"
   ]
  },
  {
   "cell_type": "code",
   "execution_count": null,
   "id": "0b5fab64",
   "metadata": {},
   "outputs": [],
   "source": [
    "plt.plot(circ_length_list, score_list, \"o-\")\n",
    "plt.plot([0]+circ_length_list, fitting_result, \"o-\")\n",
    "plt.scatter([0],[true_score],c=\"r\")\n",
    "plt.xticks([1 * i for i in range(20)]);"
   ]
  },
  {
   "cell_type": "code",
   "execution_count": null,
   "id": "efdafcc9",
   "metadata": {},
   "outputs": [],
   "source": [
    "print(fitting_result[0])\n",
    "print(true_score)"
   ]
  },
  {
   "cell_type": "markdown",
   "id": "1d782cc5",
   "metadata": {},
   "source": [
    "さすがにあまり当てはまりがよくない。"
   ]
  },
  {
   "cell_type": "markdown",
   "id": "169593fb",
   "metadata": {},
   "source": [
    "# 演習：適切な関数で近似してみる"
   ]
  },
  {
   "cell_type": "markdown",
   "id": "49047ef6",
   "metadata": {},
   "source": [
    "プロットされた形状から、適当な関数を考え、近似してみましょう。"
   ]
  },
  {
   "cell_type": "code",
   "execution_count": null,
   "id": "3206c2b8",
   "metadata": {},
   "outputs": [],
   "source": [
    "# xを入力（回路長）とし、残りのパラメータを自由な数設定する。（以下は線型回帰の例）\n",
    "def my_function(x,a,b):\n",
    "    return a*x + b"
   ]
  },
  {
   "cell_type": "code",
   "execution_count": null,
   "id": "247f9895",
   "metadata": {},
   "outputs": [],
   "source": [
    "# パラメータを推定する\n",
    "param, _ = curve_fit(my_function, circ_length_list, score_list) # paramにはxを除くパラメータがリストで格納される"
   ]
  },
  {
   "cell_type": "code",
   "execution_count": null,
   "id": "7a957bb6",
   "metadata": {},
   "outputs": [],
   "source": [
    "# 推定した関数に当てはめてみる\n",
    "x_arr = np.array([0] + circ_length_list)\n",
    "fitting_result = [my_function(x, param[0], param[1]) for x in x_arr] # パラメータの個数を合わせること"
   ]
  },
  {
   "cell_type": "code",
   "execution_count": null,
   "id": "a835a049",
   "metadata": {},
   "outputs": [],
   "source": [
    "plt.plot(circ_length_list, score_list, \"o-\")\n",
    "plt.plot([0]+circ_length_list, fitting_result, \"o-\")\n",
    "plt.scatter([0],[true_score],c=\"r\")\n",
    "plt.xticks([1 * i for i in range(20)]);"
   ]
  }
 ],
 "metadata": {
  "kernelspec": {
   "display_name": "Python 3",
   "language": "python",
   "name": "python3"
  },
  "language_info": {
   "codemirror_mode": {
    "name": "ipython",
    "version": 3
   },
   "file_extension": ".py",
   "mimetype": "text/x-python",
   "name": "python",
   "nbconvert_exporter": "python",
   "pygments_lexer": "ipython3",
   "version": "3.7.6"
  }
 },
 "nbformat": 4,
 "nbformat_minor": 5
}
