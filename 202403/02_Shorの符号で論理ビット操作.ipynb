{
 "cells": [
  {
   "cell_type": "markdown",
   "id": "e78ed89d",
   "metadata": {},
   "source": [
    "# Shorの符号で論理ビット操作"
   ]
  },
  {
   "cell_type": "markdown",
   "id": "02ba031f",
   "metadata": {},
   "source": [
    "このノートブックでは、符号化された状態で、各種ゲート操作に対応する操作を実行する論理ビット操作を行う。\n",
    "\n",
    "ここでは、先ほどのノートブックで利用したshorの符号を用いる。"
   ]
  },
  {
   "cell_type": "code",
   "execution_count": null,
   "id": "ef060cdb",
   "metadata": {
    "colab": {
     "base_uri": "https://localhost:8080/"
    },
    "executionInfo": {
     "elapsed": 39202,
     "status": "ok",
     "timestamp": 1706601632051,
     "user": {
      "displayName": "がーせー",
      "userId": "08786699277653398497"
     },
     "user_tz": -540
    },
    "id": "001b38ae",
    "outputId": "1e9a6201-1b4c-4b5e-81d7-3971a5cf82c2"
   },
   "outputs": [],
   "source": [
    "%pip install qiskit==0.45.2 qiskit-aer==0.12.0\n",
    "%pip install pylatexenc"
   ]
  },
  {
   "cell_type": "code",
   "execution_count": null,
   "id": "759223e6",
   "metadata": {
    "executionInfo": {
     "elapsed": 446,
     "status": "ok",
     "timestamp": 1706601632483,
     "user": {
      "displayName": "がーせー",
      "userId": "08786699277653398497"
     },
     "user_tz": -540
    },
    "id": "96687fd7"
   },
   "outputs": [],
   "source": [
    "import random\n",
    "import numpy as np\n",
    "\n",
    "from qiskit import QuantumCircuit, QuantumRegister, ClassicalRegister\n",
    "from qiskit_aer import AerSimulator\n",
    "from qiskit.visualization import plot_histogram\n",
    "from qiskit_aer.noise import pauli_error\n",
    "from qiskit_aer.noise.errors.quantum_error import QuantumChannelInstruction\n",
    "from qiskit.circuit.library import U3Gate"
   ]
  },
  {
   "cell_type": "markdown",
   "id": "6d66b438",
   "metadata": {
    "id": "4745d0eb"
   },
   "source": [
    "# ベルンシュタイン・ヴァジラニのアルゴリズム\n",
    "\n",
    "ここでは、簡単な回路の例として、ベルンシュタイン・ヴァジラニのアルゴリズムを動かしてみる。\n",
    "\n",
    "回路としては以下のような形になる。"
   ]
  },
  {
   "cell_type": "code",
   "execution_count": null,
   "id": "7f87f19d",
   "metadata": {},
   "outputs": [],
   "source": [
    "backend_sim = AerSimulator()\n",
    "n_shots = 1000"
   ]
  },
  {
   "cell_type": "code",
   "execution_count": null,
   "id": "18c5cebe",
   "metadata": {
    "colab": {
     "base_uri": "https://localhost:8080/",
     "height": 320
    },
    "executionInfo": {
     "elapsed": 30,
     "status": "ok",
     "timestamp": 1706601634351,
     "user": {
      "displayName": "がーせー",
      "userId": "08786699277653398497"
     },
     "user_tz": -540
    },
    "id": "5f9da924",
    "outputId": "d4c6a040-0e6d-4cd5-c862-1b361789f823"
   },
   "outputs": [],
   "source": [
    "n = 2\n",
    "bv = QuantumCircuit(n+1, n)\n",
    "\n",
    "bv.x(n)\n",
    "bv.h(range(n+1))\n",
    "\n",
    "# オラクルを回路に追加する\n",
    "bv.cx(0, n)\n",
    "bv.barrier()\n",
    "\n",
    "bv.h(range(n+1))\n",
    "\n",
    "# 測定する\n",
    "bv.measure(range(n), range(n))\n",
    "bv.draw(\"mpl\")"
   ]
  },
  {
   "cell_type": "code",
   "execution_count": null,
   "id": "21167858",
   "metadata": {
    "colab": {
     "base_uri": "https://localhost:8080/",
     "height": 461
    },
    "executionInfo": {
     "elapsed": 404,
     "status": "ok",
     "timestamp": 1706601634733,
     "user": {
      "displayName": "がーせー",
      "userId": "08786699277653398497"
     },
     "user_tz": -540
    },
    "id": "d7fa9a3c",
    "outputId": "98c079a0-879a-4ce1-eb16-fed01540188c"
   },
   "outputs": [],
   "source": [
    "result_ideal = backend_sim.run(bv, shots=n_shots).result()\n",
    "plot_histogram(result_ideal.get_counts(0))"
   ]
  },
  {
   "cell_type": "markdown",
   "id": "c702b393",
   "metadata": {},
   "source": [
    "これをshorの符号を用いた論理ビット操作で実現する。"
   ]
  },
  {
   "cell_type": "code",
   "execution_count": null,
   "id": "0726efe6",
   "metadata": {
    "executionInfo": {
     "elapsed": 15,
     "status": "ok",
     "timestamp": 1706601634736,
     "user": {
      "displayName": "がーせー",
      "userId": "08786699277653398497"
     },
     "user_tz": -540
    },
    "id": "8d25f53a"
   },
   "outputs": [],
   "source": [
    "def shor_encode(noise_channel: list[int] = [], p_error: float = 0.02):\n",
    "\n",
    "    # 回路の記述\n",
    "    n_qubits = 9\n",
    "    circ = QuantumCircuit(n_qubits)\n",
    "\n",
    "    # 符号化\n",
    "    circ.cx(0, 3)\n",
    "    circ.cx(0, 6)\n",
    "\n",
    "    circ.h(0)\n",
    "    circ.h(3)\n",
    "    circ.h(6)\n",
    "\n",
    "    circ.cx(0, 1)\n",
    "    circ.cx(0, 2)\n",
    "\n",
    "    circ.cx(3, 4)\n",
    "    circ.cx(3, 5)\n",
    "\n",
    "    circ.cx(6, 7)\n",
    "    circ.cx(6, 8)\n",
    "\n",
    "    return circ"
   ]
  },
  {
   "cell_type": "code",
   "execution_count": null,
   "id": "ce143280",
   "metadata": {
    "executionInfo": {
     "elapsed": 14,
     "status": "ok",
     "timestamp": 1706601634737,
     "user": {
      "displayName": "がーせー",
      "userId": "08786699277653398497"
     },
     "user_tz": -540
    },
    "id": "dbf44c96"
   },
   "outputs": [],
   "source": [
    "def shor_decode() -> QuantumCircuit:\n",
    "    # 回路の記述\n",
    "    n_qubits = 9\n",
    "    circ = QuantumCircuit(n_qubits)\n",
    "\n",
    "    # 復号\n",
    "    circ.cx(6, 8)\n",
    "    circ.cx(6, 7)\n",
    "\n",
    "    circ.cx(3, 5)\n",
    "    circ.cx(3, 4)\n",
    "\n",
    "    circ.cx(0, 2)\n",
    "    circ.cx(0, 1)\n",
    "\n",
    "    circ.ccx(2, 1, 0)\n",
    "    circ.ccx(5, 4, 3)\n",
    "    circ.ccx(8, 7, 6)\n",
    "\n",
    "    circ.h(0)\n",
    "    circ.h(3)\n",
    "    circ.h(6)\n",
    "\n",
    "    circ.cx(0, 6)\n",
    "    circ.cx(0, 3)\n",
    "    circ.ccx(6, 3, 0)\n",
    "\n",
    "    return circ"
   ]
  },
  {
   "cell_type": "markdown",
   "id": "b88eb94e",
   "metadata": {},
   "source": [
    "ここで、各種ゲート操作に対応する論理ビット操作の実装を準備する。"
   ]
  },
  {
   "cell_type": "code",
   "execution_count": null,
   "id": "4354146f",
   "metadata": {
    "executionInfo": {
     "elapsed": 14,
     "status": "ok",
     "timestamp": 1706601634738,
     "user": {
      "displayName": "がーせー",
      "userId": "08786699277653398497"
     },
     "user_tz": -540
    },
    "id": "857312b5"
   },
   "outputs": [],
   "source": [
    "def shor_cnot(circ: QuantumCircuit, qr1: QuantumRegister, qr2: QuantumRegister) -> QuantumCircuit:\n",
    "    logical_cnot = QuantumCircuit(18)\n",
    "\n",
    "    for n in range(9):\n",
    "        logical_cnot.cx(n, n+9)\n",
    "\n",
    "    circ.append(logical_cnot, qr1 + qr2)\n",
    "    return circ\n",
    "\n",
    "def shor_x() -> QuantumCircuit:\n",
    "    circ = QuantumCircuit(9)\n",
    "    circ.z(2)\n",
    "    circ.z(5)\n",
    "    circ.z(8)\n",
    "    return circ"
   ]
  },
  {
   "cell_type": "code",
   "execution_count": null,
   "id": "4394e406",
   "metadata": {},
   "outputs": [],
   "source": [
    "def shor_hadamard() -> QuantumCircuit:\n",
    "    circ = QuantumCircuit(9)\n",
    "    circ.h(0)\n",
    "    circ.h(1)\n",
    "    circ.append(U3Gate(0.5 * np.pi, 0.5 * np.pi, 0.5 * np.pi), [2])\n",
    "    circ.cx(0,1)\n",
    "    circ.cx(1,2)\n",
    "    circ.cx(2,5)\n",
    "    circ.cx(5,8)\n",
    "    circ.rz(0.5 * np.pi, 8)\n",
    "    circ.cx(5,8)\n",
    "    circ.cx(2,5)\n",
    "    circ.cx(1,2)\n",
    "    circ.cx(0,1)\n",
    "    circ.h(0)\n",
    "    circ.h(1)\n",
    "    circ.append(U3Gate(0.5 * np.pi, 0.5 * np.pi, 0.5 * np.pi), [2])\n",
    "    circ.x(0)\n",
    "    circ.x(1)\n",
    "    circ.x(2)\n",
    "\n",
    "    return circ"
   ]
  },
  {
   "cell_type": "markdown",
   "id": "01f7a647",
   "metadata": {},
   "source": [
    "それぞれの操作を可視化してみると、以下のようになる"
   ]
  },
  {
   "cell_type": "markdown",
   "id": "9233893f",
   "metadata": {},
   "source": [
    "## 論理Xゲート"
   ]
  },
  {
   "cell_type": "code",
   "execution_count": null,
   "id": "d50a4d30",
   "metadata": {},
   "outputs": [],
   "source": [
    "shor_x().draw(\"mpl\")"
   ]
  },
  {
   "cell_type": "markdown",
   "id": "b23db991",
   "metadata": {},
   "source": [
    "## 論理アダマールゲート"
   ]
  },
  {
   "cell_type": "code",
   "execution_count": null,
   "id": "f3d22c7c",
   "metadata": {},
   "outputs": [],
   "source": [
    "shor_hadamard().draw(\"mpl\")"
   ]
  },
  {
   "cell_type": "markdown",
   "id": "e7c1e355",
   "metadata": {},
   "source": [
    "## 論理CNOTゲート"
   ]
  },
  {
   "cell_type": "code",
   "execution_count": null,
   "id": "2dcd4cb6",
   "metadata": {},
   "outputs": [],
   "source": [
    "qr = QuantumRegister(18, 'q')\n",
    "circ = QuantumCircuit(qr)\n",
    "shor_cnot(circ, qr[9:], qr[0:9]).decompose().draw(\"mpl\")"
   ]
  },
  {
   "cell_type": "markdown",
   "id": "5aa13e51",
   "metadata": {},
   "source": [
    "これらの要素を組み合わせて、元のアルゴリズムに相当する量子回路を構成すると以下のようになる"
   ]
  },
  {
   "cell_type": "code",
   "execution_count": null,
   "id": "009d0949",
   "metadata": {
    "colab": {
     "base_uri": "https://localhost:8080/",
     "height": 1000
    },
    "executionInfo": {
     "elapsed": 2987,
     "status": "ok",
     "timestamp": 1706601637712,
     "user": {
      "displayName": "がーせー",
      "userId": "08786699277653398497"
     },
     "user_tz": -540
    },
    "id": "85945eff",
    "outputId": "3eecec10-02ca-46d7-d164-efcfd81b0380"
   },
   "outputs": [],
   "source": [
    "def make_logical_bv(x_error_channel: list[int] = [], z_error_channel: list[int] = []):\n",
    "    qr = QuantumRegister(27, 'q')\n",
    "    cr = ClassicalRegister(2, 'c')\n",
    "    circ = QuantumCircuit(qr, cr)\n",
    "\n",
    "    # エンコード\n",
    "    circ.append(shor_encode(), qr[0:9])\n",
    "    circ.append(shor_encode(), qr[9:18])\n",
    "    circ.append(shor_encode(), qr[18:])\n",
    "    circ.barrier()\n",
    "    \n",
    "    # エラーチャネル\n",
    "    for i in x_error_channel:\n",
    "        circ.x(i)\n",
    "        \n",
    "    for i in z_error_channel:\n",
    "        circ.z(i)\n",
    "        \n",
    "    circ.barrier()\n",
    "\n",
    "    # 論理アダマールと反転\n",
    "    circ.append(shor_hadamard(), qr[0:9])\n",
    "    circ.append(shor_hadamard(), qr[9:18])\n",
    "    circ.barrier()\n",
    "    circ.append(shor_x(), qr[18:])\n",
    "    circ.append(shor_hadamard(), qr[18:])\n",
    "    circ.barrier()\n",
    "\n",
    "    # 論理CNOT\n",
    "    shor_cnot(circ, qr[18:], qr[0:9])\n",
    "    circ.barrier()\n",
    "\n",
    "    # 論理アダマール\n",
    "    circ.append(shor_hadamard(), qr[0:9])\n",
    "    circ.append(shor_hadamard(), qr[9:18])\n",
    "    circ.barrier()\n",
    "\n",
    "    # デコード\n",
    "    circ.append(shor_decode(), qr[0:9])\n",
    "    circ.append(shor_decode(), qr[9:18])\n",
    "    circ.append(shor_decode(), qr[18:])\n",
    "    circ.barrier()\n",
    "\n",
    "    # 観測\n",
    "    circ.measure(qr[0], cr[0])\n",
    "    circ.measure(qr[9], cr[1])\n",
    "\n",
    "    return circ"
   ]
  },
  {
   "cell_type": "code",
   "execution_count": null,
   "id": "688c2209",
   "metadata": {},
   "outputs": [],
   "source": [
    "circ = make_logical_bv()"
   ]
  },
  {
   "cell_type": "code",
   "execution_count": null,
   "id": "f6c5eaad",
   "metadata": {},
   "outputs": [],
   "source": [
    "circ.decompose().draw(\"mpl\")"
   ]
  },
  {
   "cell_type": "code",
   "execution_count": null,
   "id": "42f4b6ee",
   "metadata": {
    "colab": {
     "base_uri": "https://localhost:8080/",
     "height": 461
    },
    "executionInfo": {
     "elapsed": 64363,
     "status": "ok",
     "timestamp": 1706601702049,
     "user": {
      "displayName": "がーせー",
      "userId": "08786699277653398497"
     },
     "user_tz": -540
    },
    "id": "dcbb2e19",
    "outputId": "d1a41767-f6a8-4ca9-c8fa-625493e5248a"
   },
   "outputs": [],
   "source": [
    "result_ideal = backend_sim.run(circ.decompose(), shots=n_shots).result()\n",
    "plot_histogram(result_ideal.get_counts(0))"
   ]
  },
  {
   "cell_type": "markdown",
   "id": "90fc24db",
   "metadata": {
    "executionInfo": {
     "elapsed": 21,
     "status": "ok",
     "timestamp": 1706601702050,
     "user": {
      "displayName": "がーせー",
      "userId": "08786699277653398497"
     },
     "user_tz": -540
    },
    "id": "9c789ef2"
   },
   "source": [
    "ここに、1量子ビットまでのエラーを加えてもうまく訂正できるのが期待値であるが、実際にはうまくいかないケースが出てくる。"
   ]
  },
  {
   "cell_type": "code",
   "execution_count": null,
   "id": "42d7d981",
   "metadata": {},
   "outputs": [],
   "source": [
    "# うまくいく場合\n",
    "circ_noise = make_logical_bv(x_error_channel=[0])\n",
    "\n",
    "result_noise = backend_sim.run(circ_noise.decompose(), shots=n_shots).result()\n",
    "plot_histogram(result_noise.get_counts(0))"
   ]
  },
  {
   "cell_type": "code",
   "execution_count": null,
   "id": "59b62bec",
   "metadata": {},
   "outputs": [],
   "source": [
    "# うまくいかない場合\n",
    "circ_noise = make_logical_bv(z_error_channel=[18])\n",
    "\n",
    "result_noise = backend_sim.run(circ_noise.decompose(), shots=n_shots).result()\n",
    "plot_histogram(result_noise.get_counts(0))"
   ]
  },
  {
   "cell_type": "code",
   "execution_count": null,
   "id": "c1935df0",
   "metadata": {},
   "outputs": [],
   "source": []
  }
 ],
 "metadata": {
  "colab": {
   "provenance": []
  },
  "kernelspec": {
   "display_name": "Python 3",
   "language": "python",
   "name": "python3"
  },
  "language_info": {
   "codemirror_mode": {
    "name": "ipython",
    "version": 3
   },
   "file_extension": ".py",
   "mimetype": "text/x-python",
   "name": "python",
   "nbconvert_exporter": "python",
   "pygments_lexer": "ipython3",
   "version": "3.7.6"
  }
 },
 "nbformat": 4,
 "nbformat_minor": 5
}
