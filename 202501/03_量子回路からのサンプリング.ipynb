{
 "cells": [
  {
   "cell_type": "markdown",
   "id": "20608f36",
   "metadata": {
    "id": "0157eb50"
   },
   "source": [
    "# 量子回路からのサンプリング"
   ]
  },
  {
   "cell_type": "markdown",
   "id": "6bee9fe6",
   "metadata": {
    "id": "56907a4b"
   },
   "source": [
    "先ほどの演習では特定の量子ビットに着目して、測定を行う手法を学びました。\n",
    "\n",
    "このノートブックでは、これを発展させ、一つずつ順番に量子ビットを測定していき、値を確定させていきながらサンプリングを行う方法について学びます。\n",
    "\n",
    "まずは、GHZ状態を作る簡単な回路を題材に実装します。"
   ]
  },
  {
   "cell_type": "code",
   "execution_count": null,
   "id": "8bcd7840",
   "metadata": {
    "colab": {
     "base_uri": "https://localhost:8080/"
    },
    "id": "f53d4b01",
    "outputId": "c5c61b27-b53c-478a-f13d-c2898d89e784"
   },
   "outputs": [],
   "source": [
    "!pip install tensornetwork"
   ]
  },
  {
   "cell_type": "code",
   "execution_count": null,
   "id": "dab70d83",
   "metadata": {
    "id": "51229c1d"
   },
   "outputs": [],
   "source": [
    "import tensornetwork as tn\n",
    "import numpy as np\n",
    "import random\n",
    "import copy"
   ]
  },
  {
   "cell_type": "markdown",
   "id": "2807727a",
   "metadata": {
    "id": "bd9c535b"
   },
   "source": [
    "まずは、GHZ状態を作る回路を表現するテンソルネットワークを作成します。\n",
    "\n",
    "この内容は最初の演習とほとんど同様です。"
   ]
  },
  {
   "cell_type": "code",
   "execution_count": null,
   "id": "c63dff25",
   "metadata": {
    "id": "dc4f2d7b"
   },
   "outputs": [],
   "source": [
    "h_gate = np.array([[1, 1], [1, -1]]) / np.sqrt(2)\n",
    "\n",
    "cx_gate = np.array([[1, 0, 0, 0],\n",
    "                    [0, 1, 0, 0],\n",
    "                    [0, 0, 0, 1],\n",
    "                    [0, 0, 1, 0]])"
   ]
  },
  {
   "cell_type": "code",
   "execution_count": null,
   "id": "8a704a26",
   "metadata": {
    "id": "ca164e09"
   },
   "outputs": [],
   "source": [
    "def make_initial_nodes(n_qubits):\n",
    "    initial_nodes = list()\n",
    "\n",
    "    for i in range(n_qubits):\n",
    "        initial_nodes.append(tn.Node(np.array([1, 0])))\n",
    "\n",
    "    return initial_nodes"
   ]
  },
  {
   "cell_type": "code",
   "execution_count": null,
   "id": "5f65f850",
   "metadata": {
    "id": "19999aaf"
   },
   "outputs": [],
   "source": [
    "def make_gate_nodes(n_qubits):\n",
    "    gate_nodes = list()\n",
    "\n",
    "    gate_nodes.append(tn.Node(h_gate))\n",
    "\n",
    "    for i in range(n_qubits - 1):\n",
    "        gate_nodes.append(tn.Node(cx_gate.reshape(2,2,2,2)))\n",
    "\n",
    "    return gate_nodes"
   ]
  },
  {
   "cell_type": "code",
   "execution_count": null,
   "id": "f2ddb946",
   "metadata": {
    "id": "cf78150d"
   },
   "outputs": [],
   "source": [
    "def make_edge(n_qubits, initial_state_nodes, gate_nodes):\n",
    "    # 1量子ビット目の初期状態から、Hゲートの入力\n",
    "    tn.connect(initial_state_nodes[0][0], gate_nodes[0][0])\n",
    "\n",
    "    # Hゲートの出力から、1個目のCXゲートの入力の1量子ビット目\n",
    "    tn.connect(gate_nodes[0][1], gate_nodes[1][0])\n",
    "\n",
    "    # i個目のCXゲートの出力の1量子ビット目から、i+1個目のCXゲートの入力の1量子ビット目\n",
    "    for i in range(1, n_qubits - 1):\n",
    "        tn.connect(gate_nodes[i][2], gate_nodes[i+1][0])\n",
    "\n",
    "    # i個目の量子ビットの初期状態から、i-1個目のCXゲートの入力の2量子ビット目\n",
    "    for i in range(1, n_qubits):\n",
    "        tn.connect(initial_state_nodes[i][0], gate_nodes[i][1])"
   ]
  },
  {
   "cell_type": "markdown",
   "id": "df6bf8ce",
   "metadata": {
    "id": "6df382c8"
   },
   "source": [
    "次に、これを双方向のネットワークにして、量子ビットを一つ測定するような機能を作成します。"
   ]
  },
  {
   "cell_type": "code",
   "execution_count": null,
   "id": "50a9eae1",
   "metadata": {
    "id": "a322503b"
   },
   "outputs": [],
   "source": [
    "def sample_bit(n_qubits, target_bit, sample):\n",
    "    # 各種ノードの定義\n",
    "    initial_nodes = make_initial_nodes(n_qubits)\n",
    "    gate_nodes = make_gate_nodes(n_qubits)\n",
    "\n",
    "    initial_nodes_r = make_initial_nodes(n_qubits)\n",
    "    gate_nodes_r = make_gate_nodes(n_qubits)\n",
    "\n",
    "    # ネットワークの結合\n",
    "    make_edge(n_qubits, initial_nodes, gate_nodes)\n",
    "    make_edge(n_qubits, initial_nodes_r, gate_nodes_r)\n",
    "\n",
    "    if len(sample) == 0:\n",
    "        for i in range(1, n_qubits):\n",
    "            tn.connect(gate_nodes[i][3], gate_nodes_r[i][3])\n",
    "        nodes = (initial_nodes + gate_nodes + initial_nodes_r + gate_nodes_r)\n",
    "        output_edges = []\n",
    "        output_edges.append(gate_nodes[-1][2])\n",
    "        output_edges.append(gate_nodes_r[-1][2])\n",
    "\n",
    "        result = tn.contractors.auto(nodes=nodes, output_edge_order=output_edges)\n",
    "        result_tensor = result.tensor\n",
    "\n",
    "    else:\n",
    "        # すでに値が確定しているビットについては、それに相当するノードを追加する\n",
    "        observed_nodes = list()\n",
    "        for i in range(len(sample)):\n",
    "            if sample[i] == '0':\n",
    "                observed_nodes.append(tn.Node(np.array([1, 0])))\n",
    "            else:\n",
    "                observed_nodes.append(tn.Node(np.array([0, 1])))\n",
    "        observed_nodes_r = copy.deepcopy(observed_nodes)\n",
    "\n",
    "        tn.connect(gate_nodes[-1][2], observed_nodes[0][0])\n",
    "        tn.connect(gate_nodes_r[-1][2], observed_nodes_r[0][0])\n",
    "\n",
    "        for i in range(1, len(sample)):\n",
    "            tn.connect(gate_nodes[i][3], observed_nodes[i][0])\n",
    "            tn.connect(gate_nodes_r[i][3], observed_nodes_r[i][0])\n",
    "\n",
    "        for i in range(len(sample)+1, n_qubits):\n",
    "            tn.connect(gate_nodes[i][3], gate_nodes_r[i][3])\n",
    "\n",
    "        nodes = (initial_nodes + gate_nodes + initial_nodes_r + gate_nodes_r + observed_nodes + observed_nodes_r)\n",
    "        output_edges = []\n",
    "        output_edges.append(gate_nodes[target_bit][3])\n",
    "        output_edges.append(gate_nodes_r[target_bit][3])\n",
    "\n",
    "        result = tn.contractors.auto(nodes=nodes, output_edge_order=output_edges)\n",
    "        result_tensor = result.tensor\n",
    "\n",
    "    sampling_weights = [result.tensor[0][0], result.tensor[1][1]]\n",
    "    return sampling_weights"
   ]
  },
  {
   "cell_type": "markdown",
   "id": "0c35d842",
   "metadata": {
    "id": "a1b6607a"
   },
   "source": [
    "ためしに、一つ量子ビットのサンプリングを実施してみます。"
   ]
  },
  {
   "cell_type": "code",
   "execution_count": null,
   "id": "bede0493",
   "metadata": {
    "colab": {
     "base_uri": "https://localhost:8080/"
    },
    "id": "8baf8e34",
    "outputId": "2307290c-0b7f-4709-cdb9-332d57bac04e"
   },
   "outputs": [],
   "source": [
    "# 0番の量子ビットのサンプリング\n",
    "sample_bit(3, 0, \"\")"
   ]
  },
  {
   "cell_type": "code",
   "execution_count": null,
   "id": "a4c2007a",
   "metadata": {
    "colab": {
     "base_uri": "https://localhost:8080/"
    },
    "id": "5ab770ae",
    "outputId": "b556177b-6eaf-4c99-961b-5fa7cbbf4f8d",
    "scrolled": false
   },
   "outputs": [],
   "source": [
    "# 0番の量子ビットが\"0\"のときに、1番の量子ビットをサンプリング\n",
    "sample_bit(3, 1, \"0\")"
   ]
  },
  {
   "cell_type": "markdown",
   "id": "adbe443b",
   "metadata": {
    "id": "9b411775"
   },
   "source": [
    "最後に、回路全体からのサンプリングを実装します。\n",
    "\n",
    "1量子ビットずつサンプリングを行い、得られた確率分布に基づいて、確率的に値を確定させていきます。\n",
    "\n",
    "また、同じ結果については再計算する必要がないので、辞書に保存しておくようにします。"
   ]
  },
  {
   "cell_type": "code",
   "execution_count": null,
   "id": "f5b79d18",
   "metadata": {
    "id": "045e48b0"
   },
   "outputs": [],
   "source": [
    "def sample_circuit(n_qubits, n_shots=10):\n",
    "    sample_list = list() # 得られたサンプルを保存するためのリスト\n",
    "    sampling_weights_dict = dict() # 一度計算した結果を記録しておくための辞書\n",
    "\n",
    "    for _ in range(n_shots):\n",
    "        sample = \"\"\n",
    "\n",
    "        for i in range(n_qubits):\n",
    "            if sample in sampling_weights_dict.keys(): # 計算済みの結果であれば、読み出す\n",
    "                sampling_weights = sampling_weights_dict[sample]\n",
    "            else:\n",
    "                sampling_weights = sample_bit(n_qubits, i, sample)\n",
    "                sampling_weights_dict[sample] = sampling_weights # 結果を保存しておく\n",
    "\n",
    "            sampling_bit = random.choices([0, 1], k=1, weights=sampling_weights) # 得られた結果から、確率的にビットの値を決定する\n",
    "            sample += str(sampling_bit[0])\n",
    "\n",
    "        sample_list.append(sample)\n",
    "\n",
    "    return sample_list"
   ]
  },
  {
   "cell_type": "markdown",
   "id": "8dae8fe5",
   "metadata": {
    "id": "6e6915e1"
   },
   "source": [
    "結果を確認してみます。"
   ]
  },
  {
   "cell_type": "code",
   "execution_count": null,
   "id": "1ab7b057",
   "metadata": {
    "colab": {
     "base_uri": "https://localhost:8080/"
    },
    "id": "f53c234e",
    "outputId": "27a2b7e9-5d09-497e-b3a7-7f79d210ad40"
   },
   "outputs": [],
   "source": [
    "%%time\n",
    "sample_circuit(30)"
   ]
  }
 ],
 "metadata": {
  "colab": {
   "provenance": []
  },
  "kernelspec": {
   "display_name": "Python 3",
   "language": "python",
   "name": "python3"
  },
  "language_info": {
   "codemirror_mode": {
    "name": "ipython",
    "version": 3
   },
   "file_extension": ".py",
   "mimetype": "text/x-python",
   "name": "python",
   "nbconvert_exporter": "python",
   "pygments_lexer": "ipython3",
   "version": "3.7.6"
  }
 },
 "nbformat": 4,
 "nbformat_minor": 5
}
