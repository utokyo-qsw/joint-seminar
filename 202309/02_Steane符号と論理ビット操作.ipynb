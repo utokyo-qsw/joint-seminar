{
 "cells": [
  {
   "cell_type": "markdown",
   "id": "48799a84",
   "metadata": {},
   "source": [
    "# 演習2：Steane符号と論理ビット操作"
   ]
  },
  {
   "cell_type": "markdown",
   "id": "a544c23e",
   "metadata": {},
   "source": [
    "演習1では単一の量子ビットに対して、符号化した量子ビットに対して、ノイズを乗せる実験を行った。  \n",
    "この演習では、符号化された論理ビットに対して各種ゲート操作に対応する操作を行い、ベル状態を作成してみる。\n",
    "\n",
    "ここでは、Shorの符号ではなく、Steaneの符号を用いる。"
   ]
  },
  {
   "cell_type": "markdown",
   "id": "1d9b004a",
   "metadata": {},
   "source": [
    "# ライブラリのインポート"
   ]
  },
  {
   "cell_type": "code",
   "execution_count": null,
   "id": "8fb7ed1e",
   "metadata": {},
   "outputs": [],
   "source": [
    "%pip install qiskit qiskit-aer\n",
    "%pip install pylatexenc"
   ]
  },
  {
   "cell_type": "code",
   "execution_count": null,
   "id": "f9b00963",
   "metadata": {},
   "outputs": [],
   "source": [
    "import numpy as np\n",
    "from qiskit import QuantumCircuit\n",
    "from qiskit_aer import AerSimulator\n",
    "from qiskit.tools.visualization import plot_histogram\n",
    "from qiskit_aer.noise import pauli_error\n"
   ]
  },
  {
   "cell_type": "markdown",
   "id": "8e47f66c",
   "metadata": {},
   "source": [
    "# エラーチャネルの作成"
   ]
  },
  {
   "cell_type": "markdown",
   "id": "e4f56a16",
   "metadata": {},
   "source": [
    "課題1と同様にエラーを起こす部分を用意します。\n",
    "\n",
    "ここでは先ほどよりも少し高めのエラー率にしています。  \n",
    "理由としては、ここでは17量子ビットを使用する長い回路を利用するため、shot数を多く確保すると実行時間伸びてしまいます。  \n",
    "そのため、shot数を抑えたいのですが、低めのエラー率だと、エラーが出て欲しい場面で観測されない可能性があるため、エラー率を高めています。"
   ]
  },
  {
   "cell_type": "code",
   "execution_count": null,
   "id": "7ce8a01f",
   "metadata": {},
   "outputs": [],
   "source": [
    "n_shots = 1000  # シミュレーターでのサンプリング回数\n",
    "backend_sim = AerSimulator()  # シミュレーターの用意\n",
    "p_error = 0.1  # エラー確率\n"
   ]
  },
  {
   "cell_type": "code",
   "execution_count": null,
   "id": "bbd0f803",
   "metadata": {},
   "outputs": [],
   "source": [
    "def make_bitphase_error_channel(p_error, print_flag=True):\n",
    "    bit_flip = pauli_error([(\"X\", p_error), (\"I\", 1 - p_error)])\n",
    "    phase_flip = pauli_error([(\"Z\", p_error), (\"I\", 1 - p_error)])\n",
    "\n",
    "    bitphase_flip = bit_flip.compose(phase_flip)\n",
    "\n",
    "    if print_flag:\n",
    "        print(bitphase_flip)\n",
    "    return bitphase_flip\n"
   ]
  },
  {
   "cell_type": "code",
   "execution_count": null,
   "id": "5d372f96",
   "metadata": {},
   "outputs": [],
   "source": [
    "bitphase_flip = make_bitphase_error_channel(p_error)\n"
   ]
  },
  {
   "cell_type": "markdown",
   "id": "e755efea",
   "metadata": {},
   "source": [
    "まずは、符号化をしないままのベル状態に1量子ビットだけノイズをかけてみます。"
   ]
  },
  {
   "cell_type": "code",
   "execution_count": null,
   "id": "529644dc",
   "metadata": {},
   "outputs": [],
   "source": [
    "# エラーありの回路\n",
    "n_qubits = 2\n",
    "circ_noise = QuantumCircuit(n_qubits, 2)\n",
    "\n",
    "circ_noise.h(0)\n",
    "circ_noise.cx(0, 1)\n",
    "\n",
    "circ_noise.append(bitphase_flip, [0])\n",
    "\n",
    "circ_noise.measure([0, 1], [0, 1])\n",
    "circ_noise.draw(\"mpl\")\n"
   ]
  },
  {
   "cell_type": "code",
   "execution_count": null,
   "id": "91f3d9b1",
   "metadata": {},
   "outputs": [],
   "source": [
    "result_noise = backend_sim.run(circ_noise, shots=n_shots).result()\n",
    "plot_histogram(result_noise.get_counts(0))\n"
   ]
  },
  {
   "cell_type": "markdown",
   "id": "7d93b417",
   "metadata": {},
   "source": [
    "本来出現しないはずの01と11がそれぞれ約5％の確率で出現しています。（合計10％のエラー率）"
   ]
  },
  {
   "cell_type": "markdown",
   "id": "7fe490c1",
   "metadata": {},
   "source": [
    "# Steane符号"
   ]
  },
  {
   "cell_type": "markdown",
   "id": "32d26d71",
   "metadata": {},
   "source": [
    "まずは1ビットの情報をSteane符号で符号化して、挙動を確認してみます。\n",
    "\n",
    "Xゲートで反転させただけの状態を用意し、符号化します。"
   ]
  },
  {
   "cell_type": "markdown",
   "id": "261cb5b0",
   "metadata": {},
   "source": [
    "詳細については、以下のwebサイトが参考になります。\n",
    "- https://intra.ece.ucr.edu/~korotkov/courses/EE214-QC/QC-7-error-correction.pdf"
   ]
  },
  {
   "cell_type": "code",
   "execution_count": null,
   "id": "74ad3e3e",
   "metadata": {},
   "outputs": [],
   "source": [
    "def steane_code(noise_channel=[], p_error=0.1):\n",
    "    # noise_channel : ノイズをかけたいチャネル(int)を入れたリスト\n",
    "    # p_error : エラーの発生確率\n",
    "\n",
    "    # エラーの定義\n",
    "    bitphase_flip = make_bitphase_error_channel(p_error, print_flag=False)\n",
    "\n",
    "    # 回路の記述\n",
    "    n_qubits = 7 + 6\n",
    "    circ = QuantumCircuit(n_qubits, 1)\n",
    "\n",
    "    # データビットは3ビット目\n",
    "    circ.x(3)\n",
    "\n",
    "    circ.barrier()\n",
    "\n",
    "    # 符号化\n",
    "    circ.h(0)\n",
    "    circ.h(1)\n",
    "    circ.h(2)\n",
    "\n",
    "    circ.cx(3, 4)\n",
    "    circ.cx(3, 5)\n",
    "\n",
    "    circ.cx(2, 3)\n",
    "    circ.cx(2, 4)\n",
    "    circ.cx(2, 6)\n",
    "\n",
    "    circ.cx(1, 3)\n",
    "    circ.cx(1, 5)\n",
    "    circ.cx(1, 6)\n",
    "\n",
    "    circ.cx(0, 4)\n",
    "    circ.cx(0, 5)\n",
    "    circ.cx(0, 6)\n",
    "\n",
    "    circ.barrier()\n",
    "\n",
    "    # エラーが発生する部分\n",
    "    for i in noise_channel:\n",
    "        assert (0 <= i) and (i < 13)\n",
    "        circ.append(bitphase_flip, [i])\n",
    "\n",
    "    circ.barrier()\n",
    "\n",
    "    # エラー訂正\n",
    "\n",
    "    # アンシラに情報を送る\n",
    "    for i in range(6):\n",
    "        circ.reset(i + 7)\n",
    "        circ.h(i + 7)\n",
    "\n",
    "    circ.cz(7, 0)\n",
    "    circ.cz(7, 4)\n",
    "    circ.cz(7, 5)\n",
    "    circ.cz(7, 6)\n",
    "\n",
    "    circ.cz(8, 1)\n",
    "    circ.cz(8, 3)\n",
    "    circ.cz(8, 5)\n",
    "    circ.cz(8, 6)\n",
    "\n",
    "    circ.cz(9, 2)\n",
    "    circ.cz(9, 3)\n",
    "    circ.cz(9, 4)\n",
    "    circ.cz(9, 6)\n",
    "\n",
    "    circ.cx(10, 0)\n",
    "    circ.cx(10, 4)\n",
    "    circ.cx(10, 5)\n",
    "    circ.cx(10, 6)\n",
    "\n",
    "    circ.cx(11, 1)\n",
    "    circ.cx(11, 3)\n",
    "    circ.cx(11, 5)\n",
    "    circ.cx(11, 6)\n",
    "\n",
    "    circ.cx(12, 2)\n",
    "    circ.cx(12, 3)\n",
    "    circ.cx(12, 4)\n",
    "    circ.cx(12, 6)\n",
    "\n",
    "    for i in range(6):\n",
    "        circ.h(i + 7)\n",
    "\n",
    "    circ.barrier()\n",
    "\n",
    "    # 位相反転\n",
    "    circ.x(11)\n",
    "    circ.x(12)\n",
    "    circ.h(0)\n",
    "    circ.mcx([10, 11, 12], 0)\n",
    "    circ.h(0)\n",
    "    circ.x(11)\n",
    "    circ.x(12)\n",
    "\n",
    "    circ.x(10)\n",
    "    circ.x(12)\n",
    "    circ.h(1)\n",
    "    circ.mcx([10, 11, 12], 1)\n",
    "    circ.h(1)\n",
    "    circ.x(10)\n",
    "    circ.x(12)\n",
    "\n",
    "    circ.x(10)\n",
    "    circ.x(11)\n",
    "    circ.h(2)\n",
    "    circ.mcx([10, 11, 12], 2)\n",
    "    circ.h(2)\n",
    "    circ.x(10)\n",
    "    circ.x(11)\n",
    "\n",
    "    circ.x(10)\n",
    "    circ.h(3)\n",
    "    circ.mcx([10, 11, 12], 3)\n",
    "    circ.h(3)\n",
    "    circ.x(10)\n",
    "\n",
    "    circ.x(11)\n",
    "    circ.h(4)\n",
    "    circ.mcx([10, 11, 12], 4)\n",
    "    circ.h(4)\n",
    "    circ.x(11)\n",
    "\n",
    "    circ.x(12)\n",
    "    circ.h(5)\n",
    "    circ.mcx([10, 11, 12], 5)\n",
    "    circ.h(5)\n",
    "    circ.x(12)\n",
    "\n",
    "    circ.h(6)\n",
    "    circ.mcx([10, 11, 12], 6)\n",
    "    circ.h(6)\n",
    "\n",
    "    # ビット反転\n",
    "    circ.x(8)\n",
    "    circ.x(9)\n",
    "    circ.mcx([7, 8, 9], 0)\n",
    "    circ.x(8)\n",
    "    circ.x(9)\n",
    "\n",
    "    circ.x(7)\n",
    "    circ.x(9)\n",
    "    circ.mcx([7, 8, 9], 1)\n",
    "    circ.x(7)\n",
    "    circ.x(9)\n",
    "\n",
    "    circ.x(7)\n",
    "    circ.x(8)\n",
    "    circ.mcx([7, 8, 9], 2)\n",
    "    circ.x(7)\n",
    "    circ.x(8)\n",
    "\n",
    "    circ.x(7)\n",
    "    circ.mcx([7, 8, 9], 3)\n",
    "    circ.x(7)\n",
    "\n",
    "    circ.x(8)\n",
    "    circ.mcx([7, 8, 9], 4)\n",
    "    circ.x(8)\n",
    "\n",
    "    circ.x(9)\n",
    "    circ.mcx([7, 8, 9], 5)\n",
    "    circ.x(9)\n",
    "\n",
    "    circ.mcx([7, 8, 9], 6)\n",
    "\n",
    "    circ.barrier()\n",
    "\n",
    "    # 復号\n",
    "    circ.cx(0, 4)\n",
    "    circ.cx(0, 5)\n",
    "    circ.cx(0, 6)\n",
    "\n",
    "    circ.cx(1, 3)\n",
    "    circ.cx(1, 5)\n",
    "    circ.cx(1, 6)\n",
    "\n",
    "    circ.cx(2, 3)\n",
    "    circ.cx(2, 4)\n",
    "    circ.cx(2, 6)\n",
    "\n",
    "    circ.cx(3, 4)\n",
    "    circ.cx(3, 5)\n",
    "\n",
    "    circ.h(0)\n",
    "    circ.h(1)\n",
    "    circ.h(2)\n",
    "\n",
    "    circ.measure([3], [0])\n",
    "\n",
    "    return circ\n"
   ]
  },
  {
   "cell_type": "code",
   "execution_count": null,
   "id": "b0ba3836",
   "metadata": {},
   "outputs": [],
   "source": [
    "circ = steane_code()\n"
   ]
  },
  {
   "cell_type": "code",
   "execution_count": null,
   "id": "f51d93ab",
   "metadata": {},
   "outputs": [],
   "source": [
    "circ.draw(\"mpl\")\n"
   ]
  },
  {
   "cell_type": "code",
   "execution_count": null,
   "id": "43b3f69d",
   "metadata": {},
   "outputs": [],
   "source": [
    "result_ideal = backend_sim.run(circ, shots=n_shots).result()\n",
    "plot_histogram(result_ideal.get_counts(0))\n"
   ]
  },
  {
   "cell_type": "markdown",
   "id": "dcd89368",
   "metadata": {},
   "source": [
    "# 誤り訂正"
   ]
  },
  {
   "cell_type": "markdown",
   "id": "8d1d736b",
   "metadata": {},
   "source": [
    "Steane符号を使って、1量子ビットまでの誤りが訂正できることを確認します。"
   ]
  },
  {
   "cell_type": "code",
   "execution_count": null,
   "id": "b5ee597e",
   "metadata": {},
   "outputs": [],
   "source": [
    "circ = steane_code(noise_channel=[0])\n"
   ]
  },
  {
   "cell_type": "code",
   "execution_count": null,
   "id": "f31d7f4d",
   "metadata": {},
   "outputs": [],
   "source": [
    "result_noise = backend_sim.run(circ, shots=n_shots).result()\n",
    "plot_histogram(result_noise.get_counts(0))\n"
   ]
  },
  {
   "cell_type": "code",
   "execution_count": null,
   "id": "a3ac77c0",
   "metadata": {},
   "outputs": [],
   "source": [
    "circ = steane_code(noise_channel=[3])\n"
   ]
  },
  {
   "cell_type": "code",
   "execution_count": null,
   "id": "6adf0a64",
   "metadata": {
    "scrolled": true
   },
   "outputs": [],
   "source": [
    "result_noise = backend_sim.run(circ, shots=n_shots).result()\n",
    "plot_histogram(result_noise.get_counts(0))\n"
   ]
  },
  {
   "cell_type": "markdown",
   "id": "4ecc1e9c",
   "metadata": {},
   "source": [
    "また、2量子ビット以上の場合は訂正できないことを確認してみます。"
   ]
  },
  {
   "cell_type": "code",
   "execution_count": null,
   "id": "d9f03d25",
   "metadata": {},
   "outputs": [],
   "source": [
    "circ = steane_code(noise_channel=[0, 3])\n"
   ]
  },
  {
   "cell_type": "code",
   "execution_count": null,
   "id": "1f860c0b",
   "metadata": {},
   "outputs": [],
   "source": [
    "result_noise = backend_sim.run(circ, shots=n_shots).result()\n",
    "plot_histogram(result_noise.get_counts(0))\n"
   ]
  },
  {
   "cell_type": "markdown",
   "id": "f95222b2",
   "metadata": {},
   "source": [
    "----"
   ]
  },
  {
   "cell_type": "markdown",
   "id": "512ca2e9",
   "metadata": {},
   "source": [
    "# 論理ビット操作によるベル状態の作成"
   ]
  },
  {
   "cell_type": "markdown",
   "id": "642168b6",
   "metadata": {},
   "source": [
    "今度はベル状態の作成を試すのですが、事前にベル状態を作成したものを符号化するのではなく、符号化された論理量子ビットに対して、論理ビット操作を加えて、ベル状態を作成します。"
   ]
  },
  {
   "cell_type": "markdown",
   "id": "0ae4093d",
   "metadata": {},
   "source": [
    "先ほどの例では、補助量子ビットを6量子ビット使っていますが、量子ビット数を節約するため、リセットしながら3量子ビットを使い回して実装します。"
   ]
  },
  {
   "cell_type": "code",
   "execution_count": null,
   "id": "9dd033f4",
   "metadata": {},
   "outputs": [],
   "source": [
    "def steane_code_bell_state(noise_channel=[], p_error=0.1):\n",
    "    # noise_channel : ノイズをかけたいチャネル(int)を入れたリスト\n",
    "    # p_error : エラーの発生確率\n",
    "\n",
    "    # エラーの定義\n",
    "    bitphase_flip = make_bitphase_error_channel(p_error, print_flag=False)\n",
    "\n",
    "    # 回路の記述\n",
    "    n_qubits = 14 + 3\n",
    "    circ = QuantumCircuit(n_qubits, 2)\n",
    "\n",
    "    # オリジナルのデータは3ビット目、10ビット目\n",
    "    # アンシラは14〜17ビット目\n",
    "\n",
    "    circ.barrier()\n",
    "\n",
    "    # 符号化\n",
    "    for i in range(2):\n",
    "        circ.h(0 + i * 7)\n",
    "        circ.h(1 + i * 7)\n",
    "        circ.h(2 + i * 7)\n",
    "\n",
    "        circ.cx(3 + i * 7, 4 + i * 7)\n",
    "        circ.cx(3 + i * 7, 5 + i * 7)\n",
    "\n",
    "        circ.cx(2 + i * 7, 3 + i * 7)\n",
    "        circ.cx(2 + i * 7, 4 + i * 7)\n",
    "        circ.cx(2 + i * 7, 6 + i * 7)\n",
    "\n",
    "        circ.cx(1 + i * 7, 3 + i * 7)\n",
    "        circ.cx(1 + i * 7, 5 + i * 7)\n",
    "        circ.cx(1 + i * 7, 6 + i * 7)\n",
    "\n",
    "        circ.cx(0 + i * 7, 4 + i * 7)\n",
    "        circ.cx(0 + i * 7, 5 + i * 7)\n",
    "        circ.cx(0 + i * 7, 6 + i * 7)\n",
    "\n",
    "    circ.barrier()\n",
    "\n",
    "    # エラーチャネル\n",
    "    # ここで、論理アダマールゲートと論理CNOTゲートをかける\n",
    "    for i in range(7):\n",
    "        circ.h(i)\n",
    "\n",
    "    for i in range(7):\n",
    "        circ.cx(i, i + 7)\n",
    "\n",
    "    # エラーは以下で発生させる\n",
    "    for i in noise_channel:\n",
    "        assert (0 <= i) and (i < 17)\n",
    "        circ.append(bitphase_flip, [i])\n",
    "\n",
    "    # エラー訂正\n",
    "\n",
    "    for i in range(2):  # 論理ビット数に対応するループ\n",
    "        circ.barrier()\n",
    "        for j in range(3):  # アンシラの初期化（同じものを使い回す）\n",
    "            circ.reset(j + 14)\n",
    "            circ.h(j + 14)\n",
    "\n",
    "        # アンシラに情報を送る\n",
    "        circ.cz(14, 0 + i * 7)\n",
    "        circ.cz(14, 4 + i * 7)\n",
    "        circ.cz(14, 5 + i * 7)\n",
    "        circ.cz(14, 6 + i * 7)\n",
    "\n",
    "        circ.cz(15, 1 + i * 7)\n",
    "        circ.cz(15, 3 + i * 7)\n",
    "        circ.cz(15, 5 + i * 7)\n",
    "        circ.cz(15, 6 + i * 7)\n",
    "\n",
    "        circ.cz(16, 2 + i * 7)\n",
    "        circ.cz(16, 3 + i * 7)\n",
    "        circ.cz(16, 4 + i * 7)\n",
    "        circ.cz(16, 6 + i * 7)\n",
    "\n",
    "        for j in range(3):\n",
    "            circ.h(j + 14)\n",
    "\n",
    "        circ.barrier()\n",
    "\n",
    "        # ビット反転\n",
    "        circ.x(15)\n",
    "        circ.x(16)\n",
    "        circ.mcx([14, 15, 16], 0 + i * 7)\n",
    "        circ.x(15)\n",
    "        circ.x(16)\n",
    "\n",
    "        circ.x(14)\n",
    "        circ.x(16)\n",
    "        circ.mcx([14, 15, 16], 1 + i * 7)\n",
    "        circ.x(14)\n",
    "        circ.x(16)\n",
    "\n",
    "        circ.x(14)\n",
    "        circ.x(15)\n",
    "        circ.mcx([14, 15, 16], 2 + i * 7)\n",
    "        circ.x(14)\n",
    "        circ.x(15)\n",
    "\n",
    "        circ.x(14)\n",
    "        circ.mcx([14, 15, 16], 3 + i * 7)\n",
    "        circ.x(14)\n",
    "\n",
    "        circ.x(15)\n",
    "        circ.mcx([14, 15, 16], 4 + i * 7)\n",
    "        circ.x(15)\n",
    "\n",
    "        circ.x(16)\n",
    "        circ.mcx([14, 15, 16], 5 + i * 7)\n",
    "        circ.x(16)\n",
    "\n",
    "        circ.mcx([14, 15, 16], 6 + i * 7)\n",
    "\n",
    "        # アンシラをリセットして使い回す\n",
    "        circ.barrier()\n",
    "        for j in range(3):\n",
    "            circ.reset(j + 14)\n",
    "            circ.h(j + 14)\n",
    "\n",
    "        circ.cx(14, 0 + i * 7)\n",
    "        circ.cx(14, 4 + i * 7)\n",
    "        circ.cx(14, 5 + i * 7)\n",
    "        circ.cx(14, 6 + i * 7)\n",
    "\n",
    "        circ.cx(15, 1 + i * 7)\n",
    "        circ.cx(15, 3 + i * 7)\n",
    "        circ.cx(15, 5 + i * 7)\n",
    "        circ.cx(15, 6 + i * 7)\n",
    "\n",
    "        circ.cx(16, 2 + i * 7)\n",
    "        circ.cx(16, 3 + i * 7)\n",
    "        circ.cx(16, 4 + i * 7)\n",
    "        circ.cx(16, 6 + i * 7)\n",
    "\n",
    "        for j in range(3):\n",
    "            circ.h(j + 14)\n",
    "\n",
    "        circ.barrier()\n",
    "\n",
    "        # 位相反転\n",
    "        circ.x(15)\n",
    "        circ.x(16)\n",
    "        circ.h(0 + i * 7)\n",
    "        circ.mcx([14, 15, 16], 0 + i * 7)\n",
    "        circ.h(0 + i * 7)\n",
    "        circ.x(15)\n",
    "        circ.x(16)\n",
    "\n",
    "        circ.x(14)\n",
    "        circ.x(16)\n",
    "        circ.h(1 + i * 7)\n",
    "        circ.mcx([14, 15, 16], 1 + i * 7)\n",
    "        circ.h(1 + i * 7)\n",
    "        circ.x(14)\n",
    "        circ.x(16)\n",
    "\n",
    "        circ.x(14)\n",
    "        circ.x(15)\n",
    "        circ.h(2 + i * 7)\n",
    "        circ.mcx([14, 15, 16], 2 + i * 7)\n",
    "        circ.h(2 + i * 7)\n",
    "        circ.x(14)\n",
    "        circ.x(15)\n",
    "\n",
    "        circ.x(14)\n",
    "        circ.h(3 + i * 7)\n",
    "        circ.mcx([14, 15, 16], 3 + i * 7)\n",
    "        circ.h(3 + i * 7)\n",
    "        circ.x(14)\n",
    "\n",
    "        circ.x(15)\n",
    "        circ.h(4 + i * 7)\n",
    "        circ.mcx([14, 15, 16], 4 + i * 7)\n",
    "        circ.h(4 + i * 7)\n",
    "        circ.x(15)\n",
    "\n",
    "        circ.x(16)\n",
    "        circ.h(5 + i * 7)\n",
    "        circ.mcx([14, 15, 16], 5 + i * 7)\n",
    "        circ.h(5 + i * 7)\n",
    "        circ.x(16)\n",
    "\n",
    "        circ.h(6 + i * 7)\n",
    "        circ.mcx([14, 15, 16], 6 + i * 7)\n",
    "        circ.h(6 + i * 7)\n",
    "\n",
    "    circ.barrier()\n",
    "\n",
    "    # 復号\n",
    "    for i in range(2):\n",
    "        circ.cx(0 + i * 7, 4 + i * 7)\n",
    "        circ.cx(0 + i * 7, 5 + i * 7)\n",
    "        circ.cx(0 + i * 7, 6 + i * 7)\n",
    "\n",
    "        circ.cx(1 + i * 7, 3 + i * 7)\n",
    "        circ.cx(1 + i * 7, 5 + i * 7)\n",
    "        circ.cx(1 + i * 7, 6 + i * 7)\n",
    "\n",
    "        circ.cx(2 + i * 7, 3 + i * 7)\n",
    "        circ.cx(2 + i * 7, 4 + i * 7)\n",
    "        circ.cx(2 + i * 7, 6 + i * 7)\n",
    "\n",
    "        circ.cx(3 + i * 7, 4 + i * 7)\n",
    "        circ.cx(3 + i * 7, 5 + i * 7)\n",
    "\n",
    "        circ.h(0 + i * 7)\n",
    "        circ.h(1 + i * 7)\n",
    "        circ.h(2 + i * 7)\n",
    "\n",
    "    # 測定\n",
    "    circ.measure([3, 10], [0, 1])\n",
    "\n",
    "    return circ\n"
   ]
  },
  {
   "cell_type": "code",
   "execution_count": null,
   "id": "39cd98cb",
   "metadata": {},
   "outputs": [],
   "source": [
    "circ = steane_code_bell_state()\n"
   ]
  },
  {
   "cell_type": "markdown",
   "id": "9cc69e69",
   "metadata": {},
   "source": [
    "以下のコードで回路を描画できますが、非常に巨大な回路になります。"
   ]
  },
  {
   "cell_type": "code",
   "execution_count": null,
   "id": "50615c00",
   "metadata": {
    "scrolled": false
   },
   "outputs": [],
   "source": [
    "circ.draw(\"mpl\")\n"
   ]
  },
  {
   "cell_type": "markdown",
   "id": "d604fc5d",
   "metadata": {},
   "source": [
    "まずは誤りをかけない状態で、ベル状態が作れていることを確認します。"
   ]
  },
  {
   "cell_type": "code",
   "execution_count": null,
   "id": "d5a1eb6a",
   "metadata": {},
   "outputs": [],
   "source": [
    "%%time\n",
    "# 実行に4分程度かかります\n",
    "result_ideal = backend_sim.run(circ, shots=n_shots).result()\n",
    "plot_histogram(result_ideal.get_counts(0))"
   ]
  },
  {
   "cell_type": "markdown",
   "id": "c05edf6d",
   "metadata": {},
   "source": [
    "# 課題1"
   ]
  },
  {
   "cell_type": "markdown",
   "id": "e766cb6d",
   "metadata": {},
   "source": [
    "この回路にエラーを加えて、訂正できることを確認してみましょう。"
   ]
  },
  {
   "cell_type": "code",
   "execution_count": null,
   "id": "722502d3",
   "metadata": {},
   "outputs": [],
   "source": []
  },
  {
   "cell_type": "markdown",
   "id": "45234dd7",
   "metadata": {},
   "source": [
    "# 課題2"
   ]
  },
  {
   "cell_type": "markdown",
   "id": "faa5a64e",
   "metadata": {},
   "source": [
    "誤りの発生確率を変化させながら、実際に誤りが訂正できる確率を確認してみましょう。"
   ]
  },
  {
   "cell_type": "code",
   "execution_count": null,
   "id": "483d2d9a",
   "metadata": {},
   "outputs": [],
   "source": []
  }
 ],
 "metadata": {
  "kernelspec": {
   "display_name": "Python 3",
   "language": "python",
   "name": "python3"
  },
  "language_info": {
   "codemirror_mode": {
    "name": "ipython",
    "version": 3
   },
   "file_extension": ".py",
   "mimetype": "text/x-python",
   "name": "python",
   "nbconvert_exporter": "python",
   "pygments_lexer": "ipython3",
   "version": "3.7.6"
  }
 },
 "nbformat": 4,
 "nbformat_minor": 5
}
