{
 "cells": [
  {
   "cell_type": "markdown",
   "id": "c697a12c",
   "metadata": {},
   "source": [
    "# 誤り訂正符号の実装"
   ]
  },
  {
   "cell_type": "markdown",
   "id": "59655192",
   "metadata": {},
   "source": [
    "このノートブックでは、基本的な誤り訂正符号であるShorの符号について、Qiskitのシミュレータを用いて実装を試みる。   \n",
    "実装した回路を元に、エラーが入った際の挙動を確認する。"
   ]
  },
  {
   "cell_type": "markdown",
   "id": "36c02b23",
   "metadata": {},
   "source": [
    "---\n",
    "# ライブラリのインポート"
   ]
  },
  {
   "cell_type": "code",
   "execution_count": null,
   "id": "51278529",
   "metadata": {},
   "outputs": [],
   "source": [
    "%pip install qiskit==0.45.2 qiskit-aer==0.12.0\n",
    "%pip install pylatexenc"
   ]
  },
  {
   "cell_type": "code",
   "execution_count": null,
   "id": "65790061",
   "metadata": {},
   "outputs": [],
   "source": [
    "import numpy as np\n",
    "from qiskit import QuantumCircuit\n",
    "from qiskit_aer import AerSimulator\n",
    "from qiskit.visualization import plot_histogram\n",
    "from qiskit_aer.noise import pauli_error"
   ]
  },
  {
   "cell_type": "markdown",
   "id": "d373d1fc",
   "metadata": {},
   "source": [
    "# エラーチャネルの作成"
   ]
  },
  {
   "cell_type": "markdown",
   "id": "cea30ddc",
   "metadata": {},
   "source": [
    "Qiskitの機能を利用して、エラーが起こる部分を作成します。\n",
    "\n",
    "ここでは、一定確率でビット反転エラーと位相反転エラーが起こるようなものを作成します。"
   ]
  },
  {
   "cell_type": "code",
   "execution_count": null,
   "id": "79850957",
   "metadata": {},
   "outputs": [],
   "source": [
    "p_error = 0.02 # エラー確率"
   ]
  },
  {
   "cell_type": "code",
   "execution_count": null,
   "id": "d6e67857",
   "metadata": {},
   "outputs": [],
   "source": [
    "def make_bitphase_error_channel(p_error: float, print_flag: bool = True) -> QuantumChannelInstruction:\n",
    "    bit_flip = pauli_error([('X', p_error), ('I', 1 - p_error)])\n",
    "    phase_flip = pauli_error([('Z', p_error), ('I', 1 - p_error)])\n",
    "\n",
    "    bitphase_flip = bit_flip.compose(phase_flip)\n",
    "    \n",
    "    if print_flag:\n",
    "        print(bitphase_flip)\n",
    "    return bitphase_flip.to_instruction()"
   ]
  },
  {
   "cell_type": "code",
   "execution_count": null,
   "id": "4814e768",
   "metadata": {},
   "outputs": [],
   "source": [
    "bitphase_flip = make_bitphase_error_channel(p_error)"
   ]
  },
  {
   "cell_type": "markdown",
   "id": "b8d93d2f",
   "metadata": {},
   "source": [
    "それぞれのエラーは独立に発生するため、上記の出力のような回路が確率的に適用されることと等価です。"
   ]
  },
  {
   "cell_type": "markdown",
   "id": "baa59422",
   "metadata": {},
   "source": [
    "# 単純な回路で試す"
   ]
  },
  {
   "cell_type": "markdown",
   "id": "2a915387",
   "metadata": {},
   "source": [
    "Xゲートを適用するだけの回路で試してみます。"
   ]
  },
  {
   "cell_type": "code",
   "execution_count": null,
   "id": "a8188a23",
   "metadata": {},
   "outputs": [],
   "source": [
    "n_shots = 10_000 # シミュレーターでのサンプリング回数\n",
    "backend_sim = AerSimulator() # シミュレーターの用意"
   ]
  },
  {
   "cell_type": "code",
   "execution_count": null,
   "id": "02f7579f",
   "metadata": {},
   "outputs": [],
   "source": [
    "# エラーなしの回路\n",
    "n_qubits = 1\n",
    "circ_ideal = QuantumCircuit(n_qubits, 1)\n",
    "\n",
    "circ_ideal.x(0)\n",
    "\n",
    "circ_ideal.measure(0, 0)\n",
    "circ_ideal.draw(\"mpl\")"
   ]
  },
  {
   "cell_type": "code",
   "execution_count": null,
   "id": "2e88f1af",
   "metadata": {},
   "outputs": [],
   "source": [
    "result_ideal = backend_sim.run(circ_ideal, shots=n_shots).result()\n",
    "plot_histogram(result_ideal.get_counts(0))"
   ]
  },
  {
   "cell_type": "markdown",
   "id": "cda95e02",
   "metadata": {},
   "source": [
    "次に、Xゲート適用後にエラーが発生するようにします。"
   ]
  },
  {
   "cell_type": "code",
   "execution_count": null,
   "id": "cfb46950",
   "metadata": {},
   "outputs": [],
   "source": [
    "# エラーありの回路\n",
    "n_qubits = 1\n",
    "circ_noise = QuantumCircuit(n_qubits, 1)\n",
    "\n",
    "circ_noise.x(0)\n",
    "\n",
    "circ_noise.append(bitphase_flip, [0])\n",
    "\n",
    "circ_noise.measure(0, 0)\n",
    "circ_noise.draw(\"mpl\")"
   ]
  },
  {
   "cell_type": "code",
   "execution_count": null,
   "id": "8f50080f",
   "metadata": {},
   "outputs": [],
   "source": [
    "result_noise = backend_sim.run(circ_noise, shots=n_shots).result()\n",
    "plot_histogram(result_noise.get_counts(0))"
   ]
  },
  {
   "cell_type": "markdown",
   "id": "195c429f",
   "metadata": {},
   "source": [
    "本来出現しないはずの0が約2％の確率で出現しています。  \n",
    "（今回のケースでは、位相反転エラーの影響はサンプリングの結果では見えないです）"
   ]
  },
  {
   "cell_type": "markdown",
   "id": "59702b8e",
   "metadata": {},
   "source": [
    "# ビット反転エラーを検出する回路"
   ]
  },
  {
   "cell_type": "markdown",
   "id": "27cd2db5",
   "metadata": {},
   "source": [
    "まずは、3量子ビットのビット反転エラーを検出する回路を実装します。"
   ]
  },
  {
   "cell_type": "code",
   "execution_count": null,
   "id": "63b964e8",
   "metadata": {},
   "outputs": [],
   "source": [
    "def make_circ(noise_channel: list[int] = [], p_error: float = 0.02) -> QuantumCircuit:\n",
    "    # noise_channel : ノイズをかけたいチャネル(int)を入れたリスト\n",
    "    # p_error : エラーの発生確率\n",
    "    \n",
    "    # エラーの定義\n",
    "    bit_flip = pauli_error([('X', p_error), ('I', 1 - p_error)]).to_instruction()\n",
    "    \n",
    "    # 回路の記述\n",
    "    circ = QuantumCircuit(3, 1)\n",
    "    \n",
    "    circ.x(0)\n",
    "    circ.barrier()\n",
    "    \n",
    "    # 符号化\n",
    "    circ.cx(0, 1)\n",
    "    circ.cx(0, 2)\n",
    "    \n",
    "    circ.barrier()\n",
    "    \n",
    "    # エラーが発生する部分\n",
    "    for i in noise_channel:\n",
    "        assert (0 <= i) and (i < 3)\n",
    "        circ.append(bit_flip, [i]) # i番目の量子ビットに確率的にビット反転を発生\n",
    "    \n",
    "    circ.barrier()\n",
    "    \n",
    "    # 復号\n",
    "    circ.cx(0, 2)\n",
    "    circ.cx(0, 1)\n",
    "    circ.ccx(1, 2, 0)\n",
    "    \n",
    "    circ.measure(0, 0)\n",
    "    \n",
    "    return circ"
   ]
  },
  {
   "cell_type": "markdown",
   "id": "4ac34b35",
   "metadata": {},
   "source": [
    "まずはエラーなしで動かしてみます。"
   ]
  },
  {
   "cell_type": "code",
   "execution_count": null,
   "id": "42df0e2b",
   "metadata": {},
   "outputs": [],
   "source": [
    "circ_ideal = make_circ()"
   ]
  },
  {
   "cell_type": "code",
   "execution_count": null,
   "id": "f4a7ad22",
   "metadata": {},
   "outputs": [],
   "source": [
    "circ_ideal.draw(\"mpl\") # 回路を描画する"
   ]
  },
  {
   "cell_type": "code",
   "execution_count": null,
   "id": "98b57c16",
   "metadata": {},
   "outputs": [],
   "source": [
    "result_ideal = backend_sim.run(circ_ideal, shots=n_shots).result()\n",
    "plot_histogram(result_ideal.get_counts(0))"
   ]
  },
  {
   "cell_type": "markdown",
   "id": "0bd5844b",
   "metadata": {},
   "source": [
    "次に、1つの量子ビットにエラーをかけてみます。"
   ]
  },
  {
   "cell_type": "code",
   "execution_count": null,
   "id": "752d1dad",
   "metadata": {},
   "outputs": [],
   "source": [
    "circ_noise = make_circ(noise_channel=[0]) # 符号化後、0番の量子ビットに確率的にエラーを発生させる\n",
    "\n",
    "circ_noise.draw(\"mpl\") # 回路を描画する"
   ]
  },
  {
   "cell_type": "code",
   "execution_count": null,
   "id": "575ddf79",
   "metadata": {},
   "outputs": [],
   "source": [
    "result_noise = backend_sim.run(circ_noise, shots=n_shots).result()\n",
    "plot_histogram(result_noise.get_counts(0))"
   ]
  },
  {
   "cell_type": "markdown",
   "id": "4e115043",
   "metadata": {},
   "source": [
    "一つのチャネルにエラーをかけても、問題なく、すべての出力が1になりました。"
   ]
  },
  {
   "cell_type": "markdown",
   "id": "1feea2af",
   "metadata": {},
   "source": [
    "# 課題1"
   ]
  },
  {
   "cell_type": "markdown",
   "id": "36a3dd79",
   "metadata": {},
   "source": [
    "複数のチャネルにエラーをかけてみて、誤り訂正が成功するかどうかを確認してください。\n",
    "\n",
    "失敗する場合、エラー率がどの程度になるのかも確認してみてください。"
   ]
  },
  {
   "cell_type": "code",
   "execution_count": null,
   "id": "bf091772",
   "metadata": {},
   "outputs": [],
   "source": []
  },
  {
   "cell_type": "markdown",
   "id": "b4d560c4",
   "metadata": {},
   "source": [
    "---"
   ]
  },
  {
   "cell_type": "markdown",
   "id": "1d47d125",
   "metadata": {},
   "source": [
    "エラーが3箇所に発生する場合でも、エラーこそ発生しますが、誤り訂正を実装する前に比べると、極めて低確率になります。"
   ]
  },
  {
   "cell_type": "markdown",
   "id": "55d51ed6",
   "metadata": {},
   "source": [
    "# Shorの符号"
   ]
  },
  {
   "cell_type": "markdown",
   "id": "f6f00840",
   "metadata": {},
   "source": [
    "Shorの符号は9量子ビットを用いることで、1量子ビットまでのビット反転エラーと位相反転エラーの双方に対応できる符号です。  \n",
    "\n",
    "より少ない量子ビットで実現できる符号化方法も知られていますが、まずは理解のしやすいShorの符号から実装してみます。"
   ]
  },
  {
   "cell_type": "code",
   "execution_count": null,
   "id": "f8fb3a08",
   "metadata": {},
   "outputs": [],
   "source": [
    "def make_shor_code(noise_channel : list[int] = [], p_error: float = 0.02) -> QuantumCircuit:\n",
    "    # noise_channel : ノイズをかけたいチャネル(int)を入れたリスト\n",
    "    # p_error : エラーの発生確率\n",
    "    \n",
    "    # エラーの定義\n",
    "    bitphase_flip = make_bitphase_error_channel(p_error, print_flag=False)\n",
    "    \n",
    "    # 回路の記述\n",
    "    n_qubits = 9\n",
    "    circ = QuantumCircuit(n_qubits, 1)\n",
    "   \n",
    "    circ.x(0)\n",
    "    circ.barrier()\n",
    "    \n",
    "    # 符号化\n",
    "    circ.cx(0, 3)\n",
    "    circ.cx(0, 6)\n",
    "\n",
    "    circ.h(0)\n",
    "    circ.h(3)\n",
    "    circ.h(6)\n",
    "\n",
    "    circ.cx(0, 1)\n",
    "    circ.cx(0, 2)\n",
    "\n",
    "    circ.cx(3, 4)\n",
    "    circ.cx(3, 5)\n",
    "\n",
    "    circ.cx(6, 7)\n",
    "    circ.cx(6, 8)\n",
    "\n",
    "\n",
    "    circ.barrier()\n",
    "\n",
    "    # エラーが発生する部分\n",
    "    for i in noise_channel:\n",
    "        assert (0 <= i) and (i < 9)\n",
    "        circ.append(bitphase_flip, [i])\n",
    "\n",
    "    circ.barrier()\n",
    "\n",
    "\n",
    "    # 復号\n",
    "    circ.cx(6, 8)\n",
    "    circ.cx(6, 7)\n",
    "\n",
    "    circ.cx(3, 5)\n",
    "    circ.cx(3, 4)\n",
    "\n",
    "    circ.cx(0, 2)\n",
    "    circ.cx(0, 1)\n",
    "\n",
    "    circ.ccx(2, 1, 0)\n",
    "    circ.ccx(5, 4, 3)\n",
    "    circ.ccx(8, 7, 6)\n",
    "\n",
    "    circ.h(0)\n",
    "    circ.h(3)\n",
    "    circ.h(6)\n",
    "\n",
    "    circ.cx(0, 6)\n",
    "    circ.cx(0, 3)\n",
    "    circ.ccx(6, 3, 0)\n",
    "\n",
    "    circ.measure([0], [0])\n",
    "    \n",
    "    return circ"
   ]
  },
  {
   "cell_type": "markdown",
   "id": "a54e036a",
   "metadata": {},
   "source": [
    "まずは、エラーをかけない状態で実行してみて、本来の状態が得られることを確認します。"
   ]
  },
  {
   "cell_type": "code",
   "execution_count": null,
   "id": "3a5f90c0",
   "metadata": {},
   "outputs": [],
   "source": [
    "circ_ideal = make_shor_code()"
   ]
  },
  {
   "cell_type": "code",
   "execution_count": null,
   "id": "b0fc6518",
   "metadata": {},
   "outputs": [],
   "source": [
    "circ_ideal.draw(\"mpl\")"
   ]
  },
  {
   "cell_type": "code",
   "execution_count": null,
   "id": "bcec10a3",
   "metadata": {
    "scrolled": true
   },
   "outputs": [],
   "source": [
    "result_ideal = backend_sim.run(circ_ideal, shots=n_shots).result()\n",
    "plot_histogram(result_ideal.get_counts(0))"
   ]
  },
  {
   "cell_type": "markdown",
   "id": "3373fe39",
   "metadata": {},
   "source": [
    "問題なく元の状態が得られました。"
   ]
  },
  {
   "cell_type": "markdown",
   "id": "fead9215",
   "metadata": {},
   "source": [
    "# 課題2"
   ]
  },
  {
   "cell_type": "markdown",
   "id": "183c6293",
   "metadata": {},
   "source": [
    "複数のチャネルにエラーをかけてみて、誤り訂正が成功するかどうかを確認してください。  \n",
    "失敗する場合、エラー率がどの程度になるのかも確認してみてください。"
   ]
  },
  {
   "cell_type": "code",
   "execution_count": null,
   "id": "3b1966f5",
   "metadata": {},
   "outputs": [],
   "source": []
  },
  {
   "cell_type": "markdown",
   "id": "9d27fda9",
   "metadata": {},
   "source": [
    "# 課題3"
   ]
  },
  {
   "cell_type": "markdown",
   "id": "4f09b8a1",
   "metadata": {},
   "source": [
    "エラー発生確率を変化させて、Shorの符号による誤り訂正の効果を確認してみましょう。  \n",
    "ここでは、すべての量子ビットでエラーが発生するようにします。"
   ]
  },
  {
   "cell_type": "code",
   "execution_count": null,
   "id": "f0a846b7",
   "metadata": {},
   "outputs": [],
   "source": []
  }
 ],
 "metadata": {
  "kernelspec": {
   "display_name": "Python 3",
   "language": "python",
   "name": "python3"
  },
  "language_info": {
   "codemirror_mode": {
    "name": "ipython",
    "version": 3
   },
   "file_extension": ".py",
   "mimetype": "text/x-python",
   "name": "python",
   "nbconvert_exporter": "python",
   "pygments_lexer": "ipython3",
   "version": "3.7.6"
  }
 },
 "nbformat": 4,
 "nbformat_minor": 5
}
