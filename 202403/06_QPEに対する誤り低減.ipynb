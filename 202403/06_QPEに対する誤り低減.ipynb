{
 "cells": [
  {
   "cell_type": "markdown",
   "id": "7501a34c",
   "metadata": {},
   "source": [
    "# QPEに誤り低減を用いる"
   ]
  },
  {
   "cell_type": "markdown",
   "id": "c132b312",
   "metadata": {},
   "source": [
    "このノートブックでは、より一般的な回路の例として、QPEを取り上げ、これに対して誤り低減を行ってみる。"
   ]
  },
  {
   "cell_type": "code",
   "execution_count": null,
   "id": "f7644ad8",
   "metadata": {},
   "outputs": [],
   "source": [
    "# %pip install qiskit==0.45.2 qiskit-aer==0.12.0\n",
    "# %pip install pylatexenc"
   ]
  },
  {
   "cell_type": "code",
   "execution_count": null,
   "id": "09683f6e",
   "metadata": {},
   "outputs": [],
   "source": [
    "import numpy as np\n",
    "from qiskit import QuantumCircuit, transpile\n",
    "from qiskit.quantum_info import Kraus, SuperOp\n",
    "from qiskit_aer import AerSimulator\n",
    "from qiskit.visualization import plot_histogram\n",
    "from matplotlib import pyplot as plt\n",
    "\n",
    "from qiskit_aer.noise import (NoiseModel, QuantumError, ReadoutError,\n",
    "    pauli_error, depolarizing_error, thermal_relaxation_error)\n",
    "\n",
    "%matplotlib inline"
   ]
  },
  {
   "cell_type": "markdown",
   "id": "319f8d0e",
   "metadata": {},
   "source": [
    "# エラーモデルの定義"
   ]
  },
  {
   "cell_type": "code",
   "execution_count": null,
   "id": "014c8ee0",
   "metadata": {},
   "outputs": [],
   "source": [
    "def make_noise_model(p_error: float) -> NoiseModel:\n",
    "    # p_error : ゲートエラー確率\n",
    "\n",
    "    bit_flip = pauli_error([('X', p_error), ('I', 1 - p_error)])\n",
    "    phase_flip = pauli_error([('Z', p_error), ('I', 1 - p_error)])\n",
    "    bitphase_flip = bit_flip.compose(phase_flip)\n",
    "\n",
    "    error_gate1 = bitphase_flip\n",
    "    error_gate2 = error_gate1.tensor(bitphase_flip)\n",
    "\n",
    "    noise_model = NoiseModel()\n",
    "    noise_model.add_all_qubit_quantum_error(error_gate1, [\"h\", \"x\", \"rx\", \"ry\", \"rz\"])\n",
    "    noise_model.add_all_qubit_quantum_error(error_gate2, [\"cx\", \"cp\", \"swap\"])\n",
    "\n",
    "    print(noise_model)\n",
    "    \n",
    "    return noise_model"
   ]
  },
  {
   "cell_type": "markdown",
   "id": "3aabadde",
   "metadata": {},
   "source": [
    "先ほどより回路が長くなるので、エラー率は1％にしておく。"
   ]
  },
  {
   "cell_type": "code",
   "execution_count": null,
   "id": "8edbca91",
   "metadata": {},
   "outputs": [],
   "source": [
    "p_noise = 0.01\n",
    "noise_model = make_noise_model(p_noise)"
   ]
  },
  {
   "cell_type": "markdown",
   "id": "1c49a0fc",
   "metadata": {},
   "source": [
    "# TゲートのQPE"
   ]
  },
  {
   "cell_type": "markdown",
   "id": "498a556c",
   "metadata": {},
   "source": [
    "QPEは与えられたユニタリ行列$U$に対し、その固有値$e^{2i\\pi\\lambda}$の位相$\\lambda$を求めるアルゴリズムである。\n",
    "\n",
    "ここでは、$U$として、Tゲートを採用する。\n",
    "\n",
    "Tゲートの固有値は$e^{i\\pi/4}$になることが知られている。このため、期待する出力は001（二進数表記での1/8）となる。"
   ]
  },
  {
   "cell_type": "code",
   "execution_count": null,
   "id": "b2e0ea83",
   "metadata": {},
   "outputs": [],
   "source": [
    "from qiskit.circuit.library import QFT"
   ]
  },
  {
   "cell_type": "code",
   "execution_count": null,
   "id": "7e0d5bdc",
   "metadata": {},
   "outputs": [],
   "source": [
    "n_shots = 100_000"
   ]
  },
  {
   "cell_type": "code",
   "execution_count": null,
   "id": "71665b4a",
   "metadata": {},
   "outputs": [],
   "source": [
    "def make_QFT() -> QuantumCircuit:\n",
    "    n_qubits = 4\n",
    "    circ = QuantumCircuit(n_qubits, 3)\n",
    "\n",
    "    # 固有ベクトルの入力\n",
    "    circ.x(3)\n",
    "    circ.barrier()\n",
    "\n",
    "    # アダマールゲートの適用\n",
    "    for i in range(3):\n",
    "        circ.h(i)\n",
    "    circ.barrier()\n",
    "\n",
    "    # 制御ユニタリゲートの適用\n",
    "    k = 1\n",
    "    for i in range(3):\n",
    "        for j in range(k):\n",
    "            circ.cp(np.pi/4, i, 3);\n",
    "        k *= 2\n",
    "\n",
    "    circ.barrier()\n",
    "\n",
    "    # 逆フーリエ変換\n",
    "    iqft = QFT(3).inverse().decompose()\n",
    "    circ = circ.compose(iqft, range(3))\n",
    "\n",
    "    circ.barrier()\n",
    "\n",
    "    return circ"
   ]
  },
  {
   "cell_type": "code",
   "execution_count": null,
   "id": "64b4139d",
   "metadata": {},
   "outputs": [],
   "source": [
    "circ = make_QFT()\n",
    "circ.measure(range(3), range(3))\n",
    "circ.draw(\"mpl\")"
   ]
  },
  {
   "cell_type": "code",
   "execution_count": null,
   "id": "bd5acc78",
   "metadata": {},
   "outputs": [],
   "source": [
    "sim_ideal = AerSimulator()\n",
    "result_ideal = sim_ideal.run(circ, shots=n_shots).result()\n",
    "counts_ideal = result_ideal.get_counts(0)\n",
    "plot_histogram(counts_ideal)"
   ]
  },
  {
   "cell_type": "markdown",
   "id": "b78c5753",
   "metadata": {},
   "source": [
    "エラーがない場合、正しく001が100％の確率で出現することが確認できた。"
   ]
  },
  {
   "cell_type": "markdown",
   "id": "59c2feb3",
   "metadata": {},
   "source": [
    "# エラーありの場合"
   ]
  },
  {
   "cell_type": "code",
   "execution_count": null,
   "id": "515ab0f2",
   "metadata": {},
   "outputs": [],
   "source": [
    "sim_noise = AerSimulator(noise_model=noise_model)\n",
    "result_noise = sim_noise.run(circ, shots=n_shots).result()\n",
    "counts_noise = result_noise.get_counts(0)\n",
    "\n",
    "# Plot noisy output\n",
    "plot_histogram(counts_noise)"
   ]
  },
  {
   "cell_type": "markdown",
   "id": "6ebb6f0b",
   "metadata": {},
   "source": [
    "エラーを加えてみると、当然ながら出力値がばらける。\n",
    "\n",
    "先ほどは1量子ビットのみだったので、1を取る確率を考えたが、ここでは二進数としての期待値を考えてみる。"
   ]
  },
  {
   "cell_type": "markdown",
   "id": "34796a9f",
   "metadata": {},
   "source": [
    "## 期待値を計算する"
   ]
  },
  {
   "cell_type": "markdown",
   "id": "9a244494",
   "metadata": {},
   "source": [
    "量子回路からの出力を期待値に変換する関数を以下に用意した。"
   ]
  },
  {
   "cell_type": "code",
   "execution_count": null,
   "id": "b01dde24",
   "metadata": {},
   "outputs": [],
   "source": [
    "def key_to_value(key: str) -> float:\n",
    "    # input\n",
    "    #   key : 0と1からなる文字列\n",
    "    # output\n",
    "    #   val : keyを2進数に変換したもの\n",
    "    \n",
    "    val = 0\n",
    "    x = 1/2\n",
    "    for i in key:\n",
    "        val += int(i) * x\n",
    "        x /= 2\n",
    "    return val"
   ]
  },
  {
   "cell_type": "code",
   "execution_count": null,
   "id": "80175430",
   "metadata": {},
   "outputs": [],
   "source": [
    "def calc_avg(counts:dict) -> float:\n",
    "    total = 0\n",
    "    for key in counts.keys():\n",
    "        total += key_to_value(key) * counts[key]\n",
    "    \n",
    "    return total / n_shots"
   ]
  },
  {
   "cell_type": "code",
   "execution_count": null,
   "id": "476ad274",
   "metadata": {},
   "outputs": [],
   "source": [
    "true_score = calc_avg(counts_ideal)\n",
    "print(true_score)"
   ]
  },
  {
   "cell_type": "code",
   "execution_count": null,
   "id": "0b802012",
   "metadata": {
    "scrolled": true
   },
   "outputs": [],
   "source": [
    "noise_score = calc_avg(counts_noise)\n",
    "print(noise_score)"
   ]
  },
  {
   "cell_type": "markdown",
   "id": "916f8ce4",
   "metadata": {},
   "source": [
    "エラーがない場合は正しく0.125（1/8）となり、エラーがある場合には、これより大きな値となっていることがわかる。"
   ]
  },
  {
   "cell_type": "markdown",
   "id": "3215f0e1",
   "metadata": {},
   "source": [
    "# エラー増幅回路"
   ]
  },
  {
   "cell_type": "markdown",
   "id": "88026db9",
   "metadata": {},
   "source": [
    "先ほどの演習と同様の仕組みで、回路長を増やして、エラーを増幅してみる。"
   ]
  },
  {
   "cell_type": "code",
   "execution_count": null,
   "id": "e548bd13",
   "metadata": {},
   "outputs": [],
   "source": [
    "def make_repeated_circ(n_repeat: int) -> QuantumCircuit:\n",
    "    circ = make_QFT()\n",
    "    \n",
    "    for _ in range(n_repeat):\n",
    "        circ = circ.compose(make_QFT().inverse(),range(4))\n",
    "        circ = circ.compose(make_QFT(),range(4))\n",
    "    \n",
    "    circ.measure(range(3), range(3))\n",
    "    return circ"
   ]
  },
  {
   "cell_type": "code",
   "execution_count": null,
   "id": "e775a0e7",
   "metadata": {},
   "outputs": [],
   "source": [
    "circ = make_repeated_circ(1)"
   ]
  },
  {
   "cell_type": "code",
   "execution_count": null,
   "id": "9f54b309",
   "metadata": {
    "scrolled": true
   },
   "outputs": [],
   "source": [
    "circ.draw(\"mpl\")"
   ]
  },
  {
   "cell_type": "code",
   "execution_count": null,
   "id": "a730f8ec",
   "metadata": {},
   "outputs": [],
   "source": [
    "def calc_noise_score(circ: QuantumCircuit) -> float:\n",
    "    result_noise = sim_noise.run(circ, shots=n_shots).result()\n",
    "    counts_noise = result_noise.get_counts(0)\n",
    "    noise_score = calc_avg(counts_noise)\n",
    "    return noise_score"
   ]
  },
  {
   "cell_type": "code",
   "execution_count": null,
   "id": "2ebb3fef",
   "metadata": {},
   "outputs": [],
   "source": [
    "circ_length_list = [1]\n",
    "score_list = [noise_score]\n",
    "for i in range(1, 10):\n",
    "    circ = make_repeated_circ(i)\n",
    "    repeated_noise_score = calc_noise_score(circ)\n",
    "    \n",
    "    circ_length_list.append(1 + i*2)\n",
    "    score_list.append(repeated_noise_score)"
   ]
  },
  {
   "cell_type": "code",
   "execution_count": null,
   "id": "45311c6d",
   "metadata": {},
   "outputs": [],
   "source": [
    "score_list"
   ]
  },
  {
   "cell_type": "code",
   "execution_count": null,
   "id": "e7c444e2",
   "metadata": {},
   "outputs": [],
   "source": [
    "plt.plot(circ_length_list,score_list, \"o-\")"
   ]
  },
  {
   "cell_type": "markdown",
   "id": "84b0126f",
   "metadata": {},
   "source": [
    "# 関数近似を行う"
   ]
  },
  {
   "cell_type": "markdown",
   "id": "b1c0a280",
   "metadata": {},
   "source": [
    "ここでは、指数関数を用いた近似を行う。"
   ]
  },
  {
   "cell_type": "code",
   "execution_count": null,
   "id": "733748ea",
   "metadata": {},
   "outputs": [],
   "source": [
    "from scipy.optimize import curve_fit\n",
    "\n",
    "def exponential_fitting(x,a,b,c):\n",
    "    return  a + b*np.exp(x / (x+c))"
   ]
  },
  {
   "cell_type": "code",
   "execution_count": null,
   "id": "1b66ca19",
   "metadata": {},
   "outputs": [],
   "source": [
    "param_2, _ = curve_fit(exponential_fitting, circ_length_list, score_list, maxfev=100000)"
   ]
  },
  {
   "cell_type": "code",
   "execution_count": null,
   "id": "143ae60f",
   "metadata": {},
   "outputs": [],
   "source": [
    "x_arr = np.array([0] + circ_length_list)\n",
    "fitting_result_2 = [exponential_fitting(x,param_2[0],param_2[1],param_2[2]) for x in x_arr]"
   ]
  },
  {
   "cell_type": "code",
   "execution_count": null,
   "id": "e0b7385a",
   "metadata": {},
   "outputs": [],
   "source": [
    "plt.plot(circ_length_list, score_list, \"o-\")\n",
    "plt.plot([0]+circ_length_list, fitting_result_2, \"o-\")\n",
    "plt.scatter([0],[true_score],c=\"r\")"
   ]
  },
  {
   "cell_type": "code",
   "execution_count": null,
   "id": "94e8599c",
   "metadata": {},
   "outputs": [],
   "source": [
    "fitting_result_2[0]"
   ]
  },
  {
   "cell_type": "code",
   "execution_count": null,
   "id": "368e383c",
   "metadata": {},
   "outputs": [],
   "source": [
    "true_score"
   ]
  },
  {
   "cell_type": "code",
   "execution_count": null,
   "id": "2274bfb5",
   "metadata": {},
   "outputs": [],
   "source": []
  }
 ],
 "metadata": {
  "kernelspec": {
   "display_name": "Python 3",
   "language": "python",
   "name": "python3"
  },
  "language_info": {
   "codemirror_mode": {
    "name": "ipython",
    "version": 3
   },
   "file_extension": ".py",
   "mimetype": "text/x-python",
   "name": "python",
   "nbconvert_exporter": "python",
   "pygments_lexer": "ipython3",
   "version": "3.7.6"
  }
 },
 "nbformat": 4,
 "nbformat_minor": 5
}
