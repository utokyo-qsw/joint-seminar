{
 "cells": [
  {
   "cell_type": "markdown",
   "id": "c61521ee",
   "metadata": {},
   "source": [
    "# 演習1 : 誤り訂正符号の実装"
   ]
  },
  {
   "cell_type": "markdown",
   "id": "a5f94c6c",
   "metadata": {},
   "source": [
    "このノートブックでは、基本的な誤り訂正符号であるShorの符号について、Qiskitのシミュレータを用いて実装を試みる。   \n",
    "実装した回路を元に、エラーが入った際の挙動を確認する。"
   ]
  },
  {
   "cell_type": "markdown",
   "id": "3f249f7a",
   "metadata": {},
   "source": [
    "---\n",
    "# ライブラリのインポート"
   ]
  },
  {
   "cell_type": "code",
   "execution_count": null,
   "id": "54ff7cb4",
   "metadata": {},
   "outputs": [],
   "source": [
    "%pip install qiskit qiskit-aer\n",
    "%pip install pylatexenc"
   ]
  },
  {
   "cell_type": "code",
   "execution_count": null,
   "id": "96687fd7",
   "metadata": {},
   "outputs": [],
   "source": [
    "import numpy as np\n",
    "from qiskit import QuantumCircuit\n",
    "from qiskit_aer import AerSimulator\n",
    "from qiskit.tools.visualization import plot_histogram\n",
    "from qiskit_aer.noise import pauli_error"
   ]
  },
  {
   "cell_type": "markdown",
   "id": "72c0ec16",
   "metadata": {},
   "source": [
    "# エラーチャネルの作成"
   ]
  },
  {
   "cell_type": "markdown",
   "id": "49a00d8e",
   "metadata": {},
   "source": [
    "Qiskitの機能を利用して、エラーが起こる部分を作成します。\n",
    "\n",
    "ここでは、一定確率でビット反転エラーと位相反転エラーが起こるようなものを作成します。"
   ]
  },
  {
   "cell_type": "code",
   "execution_count": null,
   "id": "d2f06693",
   "metadata": {},
   "outputs": [],
   "source": [
    "p_error = 0.02 # エラー確率"
   ]
  },
  {
   "cell_type": "code",
   "execution_count": null,
   "id": "00fa2df8",
   "metadata": {},
   "outputs": [],
   "source": [
    "def make_bitphase_error_channel(p_error, print_flag=True):\n",
    "    bit_flip = pauli_error([('X', p_error), ('I', 1 - p_error)])\n",
    "    phase_flip = pauli_error([('Z', p_error), ('I', 1 - p_error)])\n",
    "\n",
    "    bitphase_flip = bit_flip.compose(phase_flip)\n",
    "    \n",
    "    if print_flag:\n",
    "        print(bitphase_flip)\n",
    "    return bitphase_flip"
   ]
  },
  {
   "cell_type": "code",
   "execution_count": null,
   "id": "6cdf1f7f",
   "metadata": {},
   "outputs": [],
   "source": [
    "bitphase_flip = make_bitphase_error_channel(p_error)"
   ]
  },
  {
   "cell_type": "markdown",
   "id": "154183f2",
   "metadata": {},
   "source": [
    "それぞれのエラーは独立に発生するため、上記の出力のような回路が確率的に適用されることと等価です。"
   ]
  },
  {
   "cell_type": "markdown",
   "id": "4c4d856c",
   "metadata": {},
   "source": [
    "# 単純な回路で試す"
   ]
  },
  {
   "cell_type": "markdown",
   "id": "da67212a",
   "metadata": {},
   "source": [
    "Xゲートを適用するだけの回路で試してみます。"
   ]
  },
  {
   "cell_type": "code",
   "execution_count": null,
   "id": "86f297c5",
   "metadata": {},
   "outputs": [],
   "source": [
    "n_shots = 10_000 # シミュレーターでのサンプリング回数\n",
    "backend_sim = AerSimulator() # シミュレーターの用意"
   ]
  },
  {
   "cell_type": "code",
   "execution_count": null,
   "id": "155b01e2",
   "metadata": {},
   "outputs": [],
   "source": [
    "# エラーなしの回路\n",
    "n_qubits = 1\n",
    "circ_ideal = QuantumCircuit(n_qubits, 1)\n",
    "\n",
    "circ_ideal.x(0)\n",
    "\n",
    "circ_ideal.measure(0, 0)\n",
    "circ_ideal.draw(\"mpl\")"
   ]
  },
  {
   "cell_type": "code",
   "execution_count": null,
   "id": "1322aba8",
   "metadata": {},
   "outputs": [],
   "source": [
    "result_ideal = backend_sim.run(circ_ideal, shots=n_shots).result()\n",
    "plot_histogram(result_ideal.get_counts(0))"
   ]
  },
  {
   "cell_type": "markdown",
   "id": "690adb11",
   "metadata": {},
   "source": [
    "次に、Xゲート適用後にエラーが発生するようにします。"
   ]
  },
  {
   "cell_type": "code",
   "execution_count": null,
   "id": "635bdec4",
   "metadata": {},
   "outputs": [],
   "source": [
    "# エラーありの回路\n",
    "n_qubits = 1\n",
    "circ_noise = QuantumCircuit(n_qubits, 1)\n",
    "\n",
    "circ_noise.x(0)\n",
    "\n",
    "circ_noise.append(bitphase_flip, [0])\n",
    "\n",
    "circ_noise.measure(0, 0)\n",
    "circ_noise.draw(\"mpl\")"
   ]
  },
  {
   "cell_type": "code",
   "execution_count": null,
   "id": "a1adc4b4",
   "metadata": {},
   "outputs": [],
   "source": [
    "result_noise = backend_sim.run(circ_noise, shots=n_shots).result()\n",
    "plot_histogram(result_noise.get_counts(0))"
   ]
  },
  {
   "cell_type": "markdown",
   "id": "805b1538",
   "metadata": {},
   "source": [
    "本来出現しないはずの0が約2％の確率で出現しています。  \n",
    "（今回のケースでは、位相反転エラーの影響はサンプリングの結果では見えないです）"
   ]
  },
  {
   "cell_type": "markdown",
   "id": "72092431",
   "metadata": {},
   "source": [
    "# ビット反転エラーを検出する回路"
   ]
  },
  {
   "cell_type": "markdown",
   "id": "47a1ba88",
   "metadata": {},
   "source": [
    "まずは、3量子ビットのビット反転エラーを検出する回路を実装します。"
   ]
  },
  {
   "cell_type": "code",
   "execution_count": null,
   "id": "24409794",
   "metadata": {},
   "outputs": [],
   "source": [
    "def make_circ(noise_channel=[], p_error=0.02):\n",
    "    # noise_channel : ノイズをかけたいチャネル(int)を入れたリスト\n",
    "    # p_error : エラーの発生確率\n",
    "    \n",
    "    # エラーの定義\n",
    "    bit_flip = pauli_error([('X', p_error), ('I', 1 - p_error)])\n",
    "    \n",
    "    # 回路の記述\n",
    "    circ = QuantumCircuit(3, 1)\n",
    "    \n",
    "    circ.x(0)\n",
    "    circ.barrier()\n",
    "    \n",
    "    # 符号化\n",
    "    circ.cx(0, 1)\n",
    "    circ.cx(0, 2)\n",
    "    \n",
    "    circ.barrier()\n",
    "    \n",
    "    # エラーが発生する部分\n",
    "    for i in noise_channel:\n",
    "        assert (0 <= i) and (i < 3)\n",
    "        circ.append(bit_flip, [i]) # i番目の量子ビットに確率的にビット反転を発生\n",
    "    \n",
    "    circ.barrier()\n",
    "    \n",
    "    # 復号\n",
    "    circ.cx(0, 2)\n",
    "    circ.cx(0, 1)\n",
    "    circ.ccx(1, 2, 0)\n",
    "    \n",
    "    circ.measure(0, 0)\n",
    "    \n",
    "    return circ"
   ]
  },
  {
   "cell_type": "markdown",
   "id": "730fe345",
   "metadata": {},
   "source": [
    "まずはエラーなしで動かしてみます。"
   ]
  },
  {
   "cell_type": "code",
   "execution_count": null,
   "id": "2f25c273",
   "metadata": {},
   "outputs": [],
   "source": [
    "circ_ideal = make_circ()"
   ]
  },
  {
   "cell_type": "code",
   "execution_count": null,
   "id": "0932f630",
   "metadata": {},
   "outputs": [],
   "source": [
    "circ_ideal.draw(\"mpl\") # 回路を描画する"
   ]
  },
  {
   "cell_type": "code",
   "execution_count": null,
   "id": "b0e495e9",
   "metadata": {},
   "outputs": [],
   "source": [
    "result_ideal = backend_sim.run(circ_ideal, shots=n_shots).result()\n",
    "plot_histogram(result_ideal.get_counts(0))"
   ]
  },
  {
   "cell_type": "markdown",
   "id": "53916738",
   "metadata": {},
   "source": [
    "次に、1つの量子ビットにエラーをかけてみます。"
   ]
  },
  {
   "cell_type": "code",
   "execution_count": null,
   "id": "da02b462",
   "metadata": {},
   "outputs": [],
   "source": [
    "circ_noise = make_circ(noise_channel=[0]) # 符号化後、0番の量子ビットに確率的にエラーを発生させる\n",
    "\n",
    "circ_noise.draw(\"mpl\") # 回路を描画する"
   ]
  },
  {
   "cell_type": "code",
   "execution_count": null,
   "id": "eb941b5d",
   "metadata": {},
   "outputs": [],
   "source": [
    "result_noise = backend_sim.run(circ_noise, shots=n_shots).result()\n",
    "plot_histogram(result_noise.get_counts(0))"
   ]
  },
  {
   "cell_type": "markdown",
   "id": "b431ab37",
   "metadata": {},
   "source": [
    "一つのチャネルにエラーをかけても、問題なく、すべての出力が1になりました。"
   ]
  },
  {
   "cell_type": "markdown",
   "id": "9ac35901",
   "metadata": {},
   "source": [
    "# 課題1"
   ]
  },
  {
   "cell_type": "markdown",
   "id": "cbc50011",
   "metadata": {},
   "source": [
    "複数のチャネルにエラーをかけてみて、誤り訂正が成功するかどうかを確認してください。\n",
    "\n",
    "失敗する場合、エラー率がどの程度になるのかも確認してみてください。"
   ]
  },
  {
   "cell_type": "code",
   "execution_count": null,
   "id": "f0ac910b",
   "metadata": {},
   "outputs": [],
   "source": []
  },
  {
   "cell_type": "markdown",
   "id": "99af1ce0",
   "metadata": {},
   "source": [
    "---"
   ]
  },
  {
   "cell_type": "markdown",
   "id": "9b66f5df",
   "metadata": {},
   "source": [
    "エラーが3箇所に発生する場合でも、エラーこそ発生しますが、誤り訂正を実装する前に比べると、極めて低確率になります。"
   ]
  },
  {
   "cell_type": "markdown",
   "id": "8289ef7d",
   "metadata": {},
   "source": [
    "# Shorの符号"
   ]
  },
  {
   "cell_type": "markdown",
   "id": "59707759",
   "metadata": {},
   "source": [
    "Shorの符号は9量子ビットを用いることで、1量子ビットまでのビット反転エラーと位相反転エラーの双方に対応できる符号です。  \n",
    "\n",
    "より少ない量子ビットで実現できる符号化方法も知られていますが、まずは理解のしやすいShorの符号から実装してみます。"
   ]
  },
  {
   "cell_type": "code",
   "execution_count": null,
   "id": "88363d28",
   "metadata": {},
   "outputs": [],
   "source": [
    "def make_shor_code(noise_channel=[], p_error=0.02):\n",
    "    # noise_channel : ノイズをかけたいチャネル(int)を入れたリスト\n",
    "    # p_error : エラーの発生確率\n",
    "    \n",
    "    # エラーの定義\n",
    "    bitphase_flip = make_bitphase_error_channel(p_error, print_flag=False)\n",
    "    \n",
    "    # 回路の記述\n",
    "    n_qubits = 9\n",
    "    circ = QuantumCircuit(n_qubits, 1)\n",
    "   \n",
    "    circ.x(0)\n",
    "    circ.barrier()\n",
    "    \n",
    "    # 符号化\n",
    "    circ.cx(0, 3)\n",
    "    circ.cx(0, 6)\n",
    "\n",
    "    circ.h(0)\n",
    "    circ.h(3)\n",
    "    circ.h(6)\n",
    "\n",
    "    circ.cx(0, 1)\n",
    "    circ.cx(0, 2)\n",
    "\n",
    "    circ.cx(3, 4)\n",
    "    circ.cx(3, 5)\n",
    "\n",
    "    circ.cx(6, 7)\n",
    "    circ.cx(6, 8)\n",
    "\n",
    "\n",
    "    circ.barrier()\n",
    "\n",
    "    # エラーが発生する部分\n",
    "    for i in noise_channel:\n",
    "        assert (0 <= i) and (i < 9)\n",
    "        circ.append(bitphase_flip, [i])\n",
    "\n",
    "    circ.barrier()\n",
    "\n",
    "\n",
    "    # 復号\n",
    "    circ.cx(6, 8)\n",
    "    circ.cx(6, 7)\n",
    "\n",
    "    circ.cx(3, 5)\n",
    "    circ.cx(3, 4)\n",
    "\n",
    "    circ.cx(0, 2)\n",
    "    circ.cx(0, 1)\n",
    "\n",
    "    circ.ccx(2, 1, 0)\n",
    "    circ.ccx(5, 4, 3)\n",
    "    circ.ccx(8, 7, 6)\n",
    "\n",
    "    circ.h(0)\n",
    "    circ.h(3)\n",
    "    circ.h(6)\n",
    "\n",
    "    circ.cx(0, 6)\n",
    "    circ.cx(0, 3)\n",
    "    circ.ccx(6, 3, 0)\n",
    "\n",
    "    circ.measure([0], [0])\n",
    "    \n",
    "    return circ"
   ]
  },
  {
   "cell_type": "markdown",
   "id": "f0708a57",
   "metadata": {},
   "source": [
    "まずは、エラーをかけない状態で実行してみて、本来の状態が得られることを確認します。"
   ]
  },
  {
   "cell_type": "code",
   "execution_count": null,
   "id": "04fce931",
   "metadata": {},
   "outputs": [],
   "source": [
    "circ_ideal = make_shor_code()"
   ]
  },
  {
   "cell_type": "code",
   "execution_count": null,
   "id": "5e2c5f02",
   "metadata": {},
   "outputs": [],
   "source": [
    "circ_ideal.draw(\"mpl\")"
   ]
  },
  {
   "cell_type": "code",
   "execution_count": null,
   "id": "29e61dfe",
   "metadata": {
    "scrolled": true
   },
   "outputs": [],
   "source": [
    "result_ideal = backend_sim.run(circ_ideal, shots=n_shots).result()\n",
    "plot_histogram(result_ideal.get_counts(0))"
   ]
  },
  {
   "cell_type": "markdown",
   "id": "e74a0f79",
   "metadata": {},
   "source": [
    "問題なく元の状態が得られました。"
   ]
  },
  {
   "cell_type": "markdown",
   "id": "4745d0eb",
   "metadata": {},
   "source": [
    "# 課題2"
   ]
  },
  {
   "cell_type": "markdown",
   "id": "0843e36b",
   "metadata": {},
   "source": [
    "複数のチャネルにエラーをかけてみて、誤り訂正が成功するかどうかを確認してください。  \n",
    "失敗する場合、エラー率がどの程度になるのかも確認してみてください。"
   ]
  },
  {
   "cell_type": "code",
   "execution_count": null,
   "id": "77dbeb3d",
   "metadata": {},
   "outputs": [],
   "source": []
  },
  {
   "cell_type": "markdown",
   "id": "738d01d3",
   "metadata": {},
   "source": [
    "# 課題3"
   ]
  },
  {
   "cell_type": "markdown",
   "id": "21f3740d",
   "metadata": {},
   "source": [
    "エラー発生確率を変化させて、Shorの符号による誤り訂正の効果を確認してみましょう。  \n",
    "ここでは、すべての量子ビットでエラーが発生するようにします。"
   ]
  },
  {
   "cell_type": "code",
   "execution_count": null,
   "id": "b267dbde",
   "metadata": {},
   "outputs": [],
   "source": []
  }
 ],
 "metadata": {
  "kernelspec": {
   "display_name": "Python 3",
   "language": "python",
   "name": "python3"
  },
  "language_info": {
   "codemirror_mode": {
    "name": "ipython",
    "version": 3
   },
   "file_extension": ".py",
   "mimetype": "text/x-python",
   "name": "python",
   "nbconvert_exporter": "python",
   "pygments_lexer": "ipython3",
   "version": "3.7.6"
  }
 },
 "nbformat": 4,
 "nbformat_minor": 5
}
