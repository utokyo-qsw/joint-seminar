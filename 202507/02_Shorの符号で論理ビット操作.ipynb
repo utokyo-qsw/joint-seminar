{
 "cells": [
  {
   "cell_type": "markdown",
   "id": "18718019",
   "metadata": {
    "id": "e78ed89d"
   },
   "source": [
    "# Shorの符号で論理ビット操作"
   ]
  },
  {
   "cell_type": "markdown",
   "id": "90bc4263",
   "metadata": {
    "id": "02ba031f"
   },
   "source": [
    "このノートブックでは、符号化された状態で、各種ゲート操作に対応する操作を実行する論理ビット操作を行う。\n",
    "\n",
    "ここでは、先ほどのノートブックで利用したshorの符号を用いる。"
   ]
  },
  {
   "cell_type": "code",
   "execution_count": null,
   "id": "8e38d81b",
   "metadata": {
    "colab": {
     "base_uri": "https://localhost:8080/"
    },
    "executionInfo": {
     "elapsed": 22495,
     "status": "ok",
     "timestamp": 1753318532289,
     "user": {
      "displayName": "渡邉一生",
      "userId": "17381588253245499892"
     },
     "user_tz": -540
    },
    "id": "ef060cdb",
    "outputId": "c1d0f5e0-d636-4c8d-be25-b025be793d2f"
   },
   "outputs": [],
   "source": [
    "%pip install qiskit qiskit-aer\n",
    "%pip install pylatexenc"
   ]
  },
  {
   "cell_type": "code",
   "execution_count": null,
   "id": "a304a44b",
   "metadata": {
    "executionInfo": {
     "elapsed": 490,
     "status": "ok",
     "timestamp": 1753318532785,
     "user": {
      "displayName": "渡邉一生",
      "userId": "17381588253245499892"
     },
     "user_tz": -540
    },
    "id": "759223e6"
   },
   "outputs": [],
   "source": [
    "import random\n",
    "import numpy as np\n",
    "\n",
    "from qiskit import QuantumCircuit, QuantumRegister, ClassicalRegister\n",
    "from qiskit_aer import AerSimulator\n",
    "from qiskit.visualization import plot_histogram\n",
    "from qiskit_aer.noise import pauli_error\n",
    "from qiskit_aer.noise.errors.base_quantum_error import QuantumChannelInstruction\n",
    "from qiskit.circuit.library import U3Gate"
   ]
  },
  {
   "cell_type": "markdown",
   "id": "99b38222",
   "metadata": {
    "id": "6d66b438"
   },
   "source": [
    "# ベルンシュタイン・ヴァジラニのアルゴリズム\n",
    "\n",
    "ここでは、簡単な回路の例として、ベルンシュタイン・ヴァジラニのアルゴリズムを動かしてみる。\n",
    "\n",
    "回路としては以下のような形になる。"
   ]
  },
  {
   "cell_type": "code",
   "execution_count": null,
   "id": "5988445e",
   "metadata": {
    "executionInfo": {
     "elapsed": 2,
     "status": "ok",
     "timestamp": 1753318532802,
     "user": {
      "displayName": "渡邉一生",
      "userId": "17381588253245499892"
     },
     "user_tz": -540
    },
    "id": "7f87f19d"
   },
   "outputs": [],
   "source": [
    "backend_sim = AerSimulator()\n",
    "n_shots = 1000"
   ]
  },
  {
   "cell_type": "code",
   "execution_count": null,
   "id": "747106df",
   "metadata": {
    "colab": {
     "base_uri": "https://localhost:8080/",
     "height": 320
    },
    "executionInfo": {
     "elapsed": 715,
     "status": "ok",
     "timestamp": 1753318533520,
     "user": {
      "displayName": "渡邉一生",
      "userId": "17381588253245499892"
     },
     "user_tz": -540
    },
    "id": "18c5cebe",
    "outputId": "7179fe08-99f3-43dd-c1ed-634972d6f9f4"
   },
   "outputs": [],
   "source": [
    "n = 2\n",
    "bv = QuantumCircuit(n+1, n)\n",
    "\n",
    "bv.x(n)\n",
    "bv.h(range(n+1))\n",
    "\n",
    "bv.barrier()\n",
    "# オラクルを回路に追加する\n",
    "bv.cx(0, n)\n",
    "bv.barrier()\n",
    "\n",
    "bv.h(range(n+1))\n",
    "\n",
    "# 測定する\n",
    "bv.measure(range(n), range(n))\n",
    "bv.draw(\"mpl\")"
   ]
  },
  {
   "cell_type": "code",
   "execution_count": null,
   "id": "1f7cc0fb",
   "metadata": {
    "colab": {
     "base_uri": "https://localhost:8080/",
     "height": 487
    },
    "executionInfo": {
     "elapsed": 164,
     "status": "ok",
     "timestamp": 1753318533680,
     "user": {
      "displayName": "渡邉一生",
      "userId": "17381588253245499892"
     },
     "user_tz": -540
    },
    "id": "21167858",
    "outputId": "7106b956-23ed-4bcf-ca8a-0aade7bd2c2f"
   },
   "outputs": [],
   "source": [
    "result_ideal = backend_sim.run(bv, shots=n_shots).result()\n",
    "plot_histogram(result_ideal.get_counts(0))"
   ]
  },
  {
   "cell_type": "markdown",
   "id": "70f6e7ae",
   "metadata": {
    "id": "c702b393"
   },
   "source": [
    "これをshorの符号を用いた論理ビット操作で実現する。"
   ]
  },
  {
   "cell_type": "code",
   "execution_count": null,
   "id": "9402f148",
   "metadata": {
    "executionInfo": {
     "elapsed": 20,
     "status": "ok",
     "timestamp": 1753318533701,
     "user": {
      "displayName": "渡邉一生",
      "userId": "17381588253245499892"
     },
     "user_tz": -540
    },
    "id": "0726efe6"
   },
   "outputs": [],
   "source": [
    "def shor_encode() -> QuantumCircuit:\n",
    "    # 回路の記述\n",
    "    n_qubits = 9\n",
    "    circ = QuantumCircuit(n_qubits)\n",
    "\n",
    "    # 符号化\n",
    "    circ.cx(0, 3)\n",
    "    circ.cx(0, 6)\n",
    "\n",
    "    circ.h(0)\n",
    "    circ.h(3)\n",
    "    circ.h(6)\n",
    "\n",
    "    circ.cx(0, 1)\n",
    "    circ.cx(0, 2)\n",
    "\n",
    "    circ.cx(3, 4)\n",
    "    circ.cx(3, 5)\n",
    "\n",
    "    circ.cx(6, 7)\n",
    "    circ.cx(6, 8)\n",
    "\n",
    "    return circ"
   ]
  },
  {
   "cell_type": "code",
   "execution_count": null,
   "id": "663500dd",
   "metadata": {
    "executionInfo": {
     "elapsed": 3,
     "status": "ok",
     "timestamp": 1753318533707,
     "user": {
      "displayName": "渡邉一生",
      "userId": "17381588253245499892"
     },
     "user_tz": -540
    },
    "id": "ce143280"
   },
   "outputs": [],
   "source": [
    "def shor_decode() -> QuantumCircuit:\n",
    "    # 回路の記述\n",
    "    n_qubits = 9\n",
    "    circ = QuantumCircuit(n_qubits)\n",
    "\n",
    "    # 復号\n",
    "    circ.cx(6, 8)\n",
    "    circ.cx(6, 7)\n",
    "\n",
    "    circ.cx(3, 5)\n",
    "    circ.cx(3, 4)\n",
    "\n",
    "    circ.cx(0, 2)\n",
    "    circ.cx(0, 1)\n",
    "\n",
    "    circ.ccx(2, 1, 0)\n",
    "    circ.ccx(5, 4, 3)\n",
    "    circ.ccx(8, 7, 6)\n",
    "\n",
    "    circ.h(0)\n",
    "    circ.h(3)\n",
    "    circ.h(6)\n",
    "\n",
    "    circ.cx(0, 6)\n",
    "    circ.cx(0, 3)\n",
    "    circ.ccx(6, 3, 0)\n",
    "\n",
    "    return circ"
   ]
  },
  {
   "cell_type": "markdown",
   "id": "1409a102",
   "metadata": {
    "id": "b88eb94e"
   },
   "source": [
    "ここで、各種ゲート操作に対応する論理ビット操作の実装を準備する。"
   ]
  },
  {
   "cell_type": "code",
   "execution_count": null,
   "id": "7899d593",
   "metadata": {
    "executionInfo": {
     "elapsed": 2,
     "status": "ok",
     "timestamp": 1753318533717,
     "user": {
      "displayName": "渡邉一生",
      "userId": "17381588253245499892"
     },
     "user_tz": -540
    },
    "id": "4354146f"
   },
   "outputs": [],
   "source": [
    "def shor_cnot(circ: QuantumCircuit, qr1: QuantumRegister, qr2: QuantumRegister) -> QuantumCircuit:\n",
    "    logical_cnot = QuantumCircuit(18)\n",
    "\n",
    "    for n in range(9):\n",
    "        logical_cnot.cx(n, n+9)\n",
    "\n",
    "    circ.append(logical_cnot, qr1 + qr2)\n",
    "    return circ\n",
    "\n",
    "def shor_x() -> QuantumCircuit:\n",
    "    circ = QuantumCircuit(9)\n",
    "    circ.z(2)\n",
    "    circ.z(5)\n",
    "    circ.z(8)\n",
    "    return circ"
   ]
  },
  {
   "cell_type": "code",
   "execution_count": null,
   "id": "fd874bf6",
   "metadata": {
    "executionInfo": {
     "elapsed": 34,
     "status": "ok",
     "timestamp": 1753318533752,
     "user": {
      "displayName": "渡邉一生",
      "userId": "17381588253245499892"
     },
     "user_tz": -540
    },
    "id": "4394e406"
   },
   "outputs": [],
   "source": [
    "def shor_hadamard() -> QuantumCircuit:\n",
    "    circ = QuantumCircuit(9)\n",
    "    circ.h(0)\n",
    "    circ.h(1)\n",
    "    circ.append(U3Gate(0.5 * np.pi, 0.5 * np.pi, 0.5 * np.pi), [2])\n",
    "    circ.cx(0,1)\n",
    "    circ.cx(1,2)\n",
    "    circ.cx(2,5)\n",
    "    circ.cx(5,8)\n",
    "    circ.rz(0.5 * np.pi, 8)\n",
    "    circ.cx(5,8)\n",
    "    circ.cx(2,5)\n",
    "    circ.cx(1,2)\n",
    "    circ.cx(0,1)\n",
    "    circ.h(0)\n",
    "    circ.h(1)\n",
    "    circ.append(U3Gate(0.5 * np.pi, 0.5 * np.pi, 0.5 * np.pi), [2])\n",
    "    circ.x(0)\n",
    "    circ.x(1)\n",
    "    circ.x(2)\n",
    "\n",
    "    return circ"
   ]
  },
  {
   "cell_type": "markdown",
   "id": "aceeae7f",
   "metadata": {
    "id": "01f7a647"
   },
   "source": [
    "それぞれの操作を可視化してみると、以下のようになる"
   ]
  },
  {
   "cell_type": "markdown",
   "id": "6a4c969d",
   "metadata": {
    "id": "9233893f"
   },
   "source": [
    "## 論理Xゲート"
   ]
  },
  {
   "cell_type": "code",
   "execution_count": null,
   "id": "6475fe70",
   "metadata": {
    "colab": {
     "base_uri": "https://localhost:8080/",
     "height": 642
    },
    "executionInfo": {
     "elapsed": 182,
     "status": "ok",
     "timestamp": 1753318533943,
     "user": {
      "displayName": "渡邉一生",
      "userId": "17381588253245499892"
     },
     "user_tz": -540
    },
    "id": "d50a4d30",
    "outputId": "a02d5931-cc1d-4065-8bf8-7f2031886951"
   },
   "outputs": [],
   "source": [
    "shor_x().draw(\"mpl\")"
   ]
  },
  {
   "cell_type": "markdown",
   "id": "75ef31e1",
   "metadata": {
    "id": "b23db991"
   },
   "source": [
    "## 論理アダマールゲート"
   ]
  },
  {
   "cell_type": "code",
   "execution_count": null,
   "id": "ff6324a0",
   "metadata": {
    "colab": {
     "base_uri": "https://localhost:8080/",
     "height": 642
    },
    "executionInfo": {
     "elapsed": 609,
     "status": "ok",
     "timestamp": 1753318534546,
     "user": {
      "displayName": "渡邉一生",
      "userId": "17381588253245499892"
     },
     "user_tz": -540
    },
    "id": "f3d22c7c",
    "outputId": "71e4ce02-d272-45de-8379-c35587475bbf"
   },
   "outputs": [],
   "source": [
    "shor_hadamard().draw(\"mpl\")"
   ]
  },
  {
   "cell_type": "markdown",
   "id": "a276b0b4",
   "metadata": {
    "id": "e7c1e355"
   },
   "source": [
    "## 論理CNOTゲート"
   ]
  },
  {
   "cell_type": "code",
   "execution_count": null,
   "id": "a597f08a",
   "metadata": {
    "colab": {
     "base_uri": "https://localhost:8080/",
     "height": 1000
    },
    "executionInfo": {
     "elapsed": 1406,
     "status": "ok",
     "timestamp": 1753318535950,
     "user": {
      "displayName": "渡邉一生",
      "userId": "17381588253245499892"
     },
     "user_tz": -540
    },
    "id": "2dcd4cb6",
    "outputId": "91016a63-ed12-4460-a43e-54842ab5f518"
   },
   "outputs": [],
   "source": [
    "qr = QuantumRegister(18, 'q')\n",
    "circ = QuantumCircuit(qr)\n",
    "shor_cnot(circ, qr[9:], qr[0:9]).decompose().draw(\"mpl\")"
   ]
  },
  {
   "cell_type": "markdown",
   "id": "812f61c0",
   "metadata": {
    "id": "5aa13e51"
   },
   "source": [
    "これらの要素を組み合わせて、元のアルゴリズムに相当する量子回路を構成すると以下のようになる"
   ]
  },
  {
   "cell_type": "code",
   "execution_count": null,
   "id": "9dba49bc",
   "metadata": {
    "id": "mnB617PJ7yGN"
   },
   "outputs": [],
   "source": []
  },
  {
   "cell_type": "code",
   "execution_count": null,
   "id": "b5c61cad",
   "metadata": {
    "executionInfo": {
     "elapsed": 25,
     "status": "ok",
     "timestamp": 1753319431978,
     "user": {
      "displayName": "渡邉一生",
      "userId": "17381588253245499892"
     },
     "user_tz": -540
    },
    "id": "009d0949"
   },
   "outputs": [],
   "source": [
    "def make_logical_bv(x_error_channel: list[int] = [], z_error_channel: list[int] = []):\n",
    "\n",
    "    shor_encode_instruction = shor_encode().to_instruction()\n",
    "    shor_decode_instruction = shor_decode().to_instruction()\n",
    "    shor_x_instruction = shor_x().to_instruction()\n",
    "    shor_hadamard_instruction = shor_hadamard().to_instruction()\n",
    "    shor_encode_instruction.name = \"encode\"\n",
    "    shor_decode_instruction.name = \"decode\"\n",
    "    shor_x_instruction.name = \"logical_x\"\n",
    "    shor_hadamard_instruction.name = \"logical_hadamard\"\n",
    "\n",
    "    qr = QuantumRegister(27, 'q')\n",
    "    cr = ClassicalRegister(2, 'c')\n",
    "    circ = QuantumCircuit(qr, cr)\n",
    "\n",
    "    # エンコード\n",
    "    circ.append(shor_encode_instruction, qr[0:9])\n",
    "    circ.append(shor_encode_instruction, qr[9:18])\n",
    "    circ.append(shor_encode_instruction, qr[18:])\n",
    "    circ.barrier()\n",
    "\n",
    "    # エラーチャネル\n",
    "    for i in x_error_channel:\n",
    "        circ.x(i)\n",
    "\n",
    "    for i in z_error_channel:\n",
    "        circ.z(i)\n",
    "\n",
    "    circ.barrier()\n",
    "\n",
    "    # 論理アダマールと反転\n",
    "    circ.append(shor_hadamard_instruction, qr[0:9])\n",
    "    circ.append(shor_hadamard_instruction, qr[9:18])\n",
    "    circ.append(shor_x_instruction, qr[18:])\n",
    "    circ.append(shor_hadamard_instruction, qr[18:])\n",
    "    circ.barrier()\n",
    "\n",
    "    # 論理CNOT\n",
    "    shor_cnot(circ, qr[18:], qr[0:9])\n",
    "    circ.barrier()\n",
    "\n",
    "    # 論理アダマール\n",
    "    circ.append(shor_hadamard_instruction, qr[0:9])\n",
    "    circ.append(shor_hadamard_instruction, qr[9:18])\n",
    "    circ.barrier()\n",
    "\n",
    "    # デコード\n",
    "    circ.append(shor_decode_instruction, qr[0:9])\n",
    "    circ.append(shor_decode_instruction, qr[9:18])\n",
    "    circ.append(shor_decode_instruction, qr[18:])\n",
    "    circ.barrier()\n",
    "\n",
    "    # 観測\n",
    "    circ.measure(qr[0], cr[0])\n",
    "    circ.measure(qr[9], cr[1])\n",
    "\n",
    "    return circ"
   ]
  },
  {
   "cell_type": "code",
   "execution_count": null,
   "id": "252baaa9",
   "metadata": {
    "executionInfo": {
     "elapsed": 5,
     "status": "ok",
     "timestamp": 1753319433128,
     "user": {
      "displayName": "渡邉一生",
      "userId": "17381588253245499892"
     },
     "user_tz": -540
    },
    "id": "688c2209"
   },
   "outputs": [],
   "source": [
    "circ = make_logical_bv()"
   ]
  },
  {
   "cell_type": "markdown",
   "id": "ef15216b",
   "metadata": {
    "id": "dvv2fN79-9bp"
   },
   "source": [
    "抽象化された回路を表示すると、以下のようになる。\n",
    "\n",
    "量子ビット数こそ多いものの、先ほどの回路と同じ操作になっている。"
   ]
  },
  {
   "cell_type": "code",
   "execution_count": null,
   "id": "2ad78c7b",
   "metadata": {
    "colab": {
     "base_uri": "https://localhost:8080/",
     "height": 1000
    },
    "executionInfo": {
     "elapsed": 2200,
     "status": "ok",
     "timestamp": 1753319444935,
     "user": {
      "displayName": "渡邉一生",
      "userId": "17381588253245499892"
     },
     "user_tz": -540
    },
    "id": "f6c5eaad",
    "outputId": "f480517e-ebcb-431c-f82c-c88cd8e4a613"
   },
   "outputs": [],
   "source": [
    "circ.draw(\"mpl\")"
   ]
  },
  {
   "cell_type": "markdown",
   "id": "76033ac3",
   "metadata": {
    "id": "V7twBOIt_AM3"
   },
   "source": [
    "細かいゲート操作に書き下してみると、以下のようになる"
   ]
  },
  {
   "cell_type": "code",
   "execution_count": null,
   "id": "4c6d2857",
   "metadata": {
    "colab": {
     "base_uri": "https://localhost:8080/",
     "height": 1000
    },
    "executionInfo": {
     "elapsed": 4409,
     "status": "ok",
     "timestamp": 1753319503943,
     "user": {
      "displayName": "渡邉一生",
      "userId": "17381588253245499892"
     },
     "user_tz": -540
    },
    "id": "qRXWCnNN_C2b",
    "outputId": "83d96a71-dbaf-4bfa-a03c-78b16eeaf7f3"
   },
   "outputs": [],
   "source": [
    "circ.decompose().draw(\"mpl\")"
   ]
  },
  {
   "cell_type": "markdown",
   "id": "ea7c0ee1",
   "metadata": {
    "id": "CFqUOY5u_S5C"
   },
   "source": [
    "作成した回路を動かして、結果を確認してみる。\n",
    "まずは、エラーをかけない状態で動かす。"
   ]
  },
  {
   "cell_type": "code",
   "execution_count": null,
   "id": "cf127861",
   "metadata": {
    "colab": {
     "base_uri": "https://localhost:8080/",
     "height": 487
    },
    "executionInfo": {
     "elapsed": 68,
     "status": "ok",
     "timestamp": 1753319663199,
     "user": {
      "displayName": "渡邉一生",
      "userId": "17381588253245499892"
     },
     "user_tz": -540
    },
    "id": "42f4b6ee",
    "outputId": "9791d662-3730-4bf8-ec3b-19491da8c0d5"
   },
   "outputs": [],
   "source": [
    "result_ideal = backend_sim.run(circ.decompose(), shots=n_shots).result()\n",
    "plot_histogram(result_ideal.get_counts(0))"
   ]
  },
  {
   "cell_type": "markdown",
   "id": "58a0a0f9",
   "metadata": {
    "executionInfo": {
     "elapsed": 21,
     "status": "ok",
     "timestamp": 1706601702050,
     "user": {
      "displayName": "がーせー",
      "userId": "08786699277653398497"
     },
     "user_tz": -540
    },
    "id": "90fc24db"
   },
   "source": [
    "ここに、1量子ビットまでのエラーを加えてもうまく訂正できるのが期待値であるが、実際にはうまくいかないケースが出てくる。"
   ]
  },
  {
   "cell_type": "code",
   "execution_count": null,
   "id": "35f9a339",
   "metadata": {
    "colab": {
     "base_uri": "https://localhost:8080/",
     "height": 487
    },
    "executionInfo": {
     "elapsed": 99807,
     "status": "ok",
     "timestamp": 1753319763196,
     "user": {
      "displayName": "渡邉一生",
      "userId": "17381588253245499892"
     },
     "user_tz": -540
    },
    "id": "42d7d981",
    "outputId": "ec2ad53e-ff06-4e06-bad6-e88d68b93d0e"
   },
   "outputs": [],
   "source": [
    "# うまくいく場合\n",
    "circ_noise = make_logical_bv(x_error_channel=[0])\n",
    "\n",
    "result_noise = backend_sim.run(circ_noise.decompose(), shots=n_shots).result()\n",
    "plot_histogram(result_noise.get_counts(0))"
   ]
  },
  {
   "cell_type": "code",
   "execution_count": null,
   "id": "b7840643",
   "metadata": {
    "colab": {
     "base_uri": "https://localhost:8080/",
     "height": 487
    },
    "executionInfo": {
     "elapsed": 98251,
     "status": "ok",
     "timestamp": 1753319861442,
     "user": {
      "displayName": "渡邉一生",
      "userId": "17381588253245499892"
     },
     "user_tz": -540
    },
    "id": "59b62bec",
    "outputId": "61c5dbc5-6a9e-4841-a945-9ecdd14c3606"
   },
   "outputs": [],
   "source": [
    "# うまくいかない場合\n",
    "circ_noise = make_logical_bv(z_error_channel=[18])\n",
    "\n",
    "result_noise = backend_sim.run(circ_noise.decompose(), shots=n_shots).result()\n",
    "plot_histogram(result_noise.get_counts(0))"
   ]
  },
  {
   "cell_type": "markdown",
   "id": "294edfcc",
   "metadata": {
    "id": "NbWkH9H58sPG"
   },
   "source": [
    "正しく動いている時は$|10>$が得られているのに対し、$|00>$が出力されている。"
   ]
  },
  {
   "cell_type": "code",
   "execution_count": null,
   "id": "ebaaf6b4",
   "metadata": {
    "executionInfo": {
     "elapsed": 3,
     "status": "ok",
     "timestamp": 1753318839851,
     "user": {
      "displayName": "渡邉一生",
      "userId": "17381588253245499892"
     },
     "user_tz": -540
    },
    "id": "c1935df0"
   },
   "outputs": [],
   "source": []
  }
 ],
 "metadata": {
  "colab": {
   "provenance": []
  },
  "kernelspec": {
   "display_name": "Python 3",
   "language": "python",
   "name": "python3"
  },
  "language_info": {
   "codemirror_mode": {
    "name": "ipython",
    "version": 3
   },
   "file_extension": ".py",
   "mimetype": "text/x-python",
   "name": "python",
   "nbconvert_exporter": "python",
   "pygments_lexer": "ipython3",
   "version": "3.7.6"
  }
 },
 "nbformat": 4,
 "nbformat_minor": 5
}
